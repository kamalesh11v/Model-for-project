{
 "cells": [
  {
   "cell_type": "code",
   "execution_count": 7,
   "id": "081525a1-6e7c-4cec-847a-091bc6676c97",
   "metadata": {},
   "outputs": [
    {
     "name": "stdout",
     "output_type": "stream",
     "text": [
      "{'fourier': <Activation name=activation_4, built=False>}\n",
      "\n",
      "\n",
      "\n",
      "\n",
      "After addition: tf.keras.utils.get_custom_objects()={'fourier': <Activation name=activation_4, built=False>}\n"
     ]
    },
    {
     "ename": "ValueError",
     "evalue": "Could not interpret activation function identifier: fourier",
     "output_type": "error",
     "traceback": [
      "\u001b[0;31m---------------------------------------------------------------------------\u001b[0m",
      "\u001b[0;31mValueError\u001b[0m                                Traceback (most recent call last)",
      "Cell \u001b[0;32mIn[7], line 21\u001b[0m\n\u001b[1;32m     18\u001b[0m \u001b[38;5;28mprint\u001b[39m(\u001b[38;5;124mf\u001b[39m\u001b[38;5;124m\"\u001b[39m\u001b[38;5;124mAfter addition: \u001b[39m\u001b[38;5;132;01m{\u001b[39;00mtf\u001b[38;5;241m.\u001b[39mkeras\u001b[38;5;241m.\u001b[39mutils\u001b[38;5;241m.\u001b[39mget_custom_objects()\u001b[38;5;132;01m=}\u001b[39;00m\u001b[38;5;124m\"\u001b[39m)\n\u001b[1;32m     20\u001b[0m x_input \u001b[38;5;241m=\u001b[39m tf\u001b[38;5;241m.\u001b[39mkeras\u001b[38;5;241m.\u001b[39mInput(shape\u001b[38;5;241m=\u001b[39m[\u001b[38;5;241m5\u001b[39m])\n\u001b[0;32m---> 21\u001b[0m layer_2 \u001b[38;5;241m=\u001b[39m \u001b[43mtf\u001b[49m\u001b[38;5;241;43m.\u001b[39;49m\u001b[43mkeras\u001b[49m\u001b[38;5;241;43m.\u001b[39;49m\u001b[43mlayers\u001b[49m\u001b[38;5;241;43m.\u001b[39;49m\u001b[43mDense\u001b[49m\u001b[43m(\u001b[49m\u001b[38;5;241;43m100\u001b[39;49m\u001b[43m,\u001b[49m\u001b[43m \u001b[49m\u001b[43minput_shape\u001b[49m\u001b[43m \u001b[49m\u001b[38;5;241;43m=\u001b[39;49m\u001b[43m \u001b[49m\u001b[43m[\u001b[49m\u001b[38;5;241;43m5\u001b[39;49m\u001b[43m]\u001b[49m\u001b[43m,\u001b[49m\n\u001b[1;32m     22\u001b[0m \u001b[43m                                \u001b[49m\u001b[43mactivation\u001b[49m\u001b[38;5;241;43m=\u001b[39;49m\u001b[38;5;124;43m\"\u001b[39;49m\u001b[38;5;124;43mfourier\u001b[39;49m\u001b[38;5;124;43m\"\u001b[39;49m\u001b[43m,\u001b[49m\n\u001b[1;32m     23\u001b[0m \u001b[43m                                \u001b[49m\u001b[43m)\u001b[49m(x_input)\n\u001b[1;32m     25\u001b[0m model \u001b[38;5;241m=\u001b[39m tf\u001b[38;5;241m.\u001b[39mkeras\u001b[38;5;241m.\u001b[39mModel(inputs\u001b[38;5;241m=\u001b[39mx_input, outputs\u001b[38;5;241m=\u001b[39mlayer_2)\n\u001b[1;32m     26\u001b[0m model\u001b[38;5;241m.\u001b[39mcompile(optimizer\u001b[38;5;241m=\u001b[39m\u001b[38;5;124m'\u001b[39m\u001b[38;5;124madam\u001b[39m\u001b[38;5;124m'\u001b[39m, loss\u001b[38;5;241m=\u001b[39m\u001b[38;5;124m'\u001b[39m\u001b[38;5;124mmse\u001b[39m\u001b[38;5;124m'\u001b[39m)\n",
      "File \u001b[0;32m/data2/forge3/envs/mamba3.11/lib/python3.11/site-packages/keras/src/layers/core/dense.py:89\u001b[0m, in \u001b[0;36mDense.__init__\u001b[0;34m(self, units, activation, use_bias, kernel_initializer, bias_initializer, kernel_regularizer, bias_regularizer, activity_regularizer, kernel_constraint, bias_constraint, lora_rank, **kwargs)\u001b[0m\n\u001b[1;32m     87\u001b[0m \u001b[38;5;28msuper\u001b[39m()\u001b[38;5;241m.\u001b[39m\u001b[38;5;21m__init__\u001b[39m(activity_regularizer\u001b[38;5;241m=\u001b[39mactivity_regularizer, \u001b[38;5;241m*\u001b[39m\u001b[38;5;241m*\u001b[39mkwargs)\n\u001b[1;32m     88\u001b[0m \u001b[38;5;28mself\u001b[39m\u001b[38;5;241m.\u001b[39munits \u001b[38;5;241m=\u001b[39m units\n\u001b[0;32m---> 89\u001b[0m \u001b[38;5;28mself\u001b[39m\u001b[38;5;241m.\u001b[39mactivation \u001b[38;5;241m=\u001b[39m \u001b[43mactivations\u001b[49m\u001b[38;5;241;43m.\u001b[39;49m\u001b[43mget\u001b[49m\u001b[43m(\u001b[49m\u001b[43mactivation\u001b[49m\u001b[43m)\u001b[49m\n\u001b[1;32m     90\u001b[0m \u001b[38;5;28mself\u001b[39m\u001b[38;5;241m.\u001b[39muse_bias \u001b[38;5;241m=\u001b[39m use_bias\n\u001b[1;32m     91\u001b[0m \u001b[38;5;28mself\u001b[39m\u001b[38;5;241m.\u001b[39mkernel_initializer \u001b[38;5;241m=\u001b[39m initializers\u001b[38;5;241m.\u001b[39mget(kernel_initializer)\n",
      "File \u001b[0;32m/data2/forge3/envs/mamba3.11/lib/python3.11/site-packages/keras/src/activations/__init__.py:104\u001b[0m, in \u001b[0;36mget\u001b[0;34m(identifier)\u001b[0m\n\u001b[1;32m    102\u001b[0m \u001b[38;5;28;01mif\u001b[39;00m \u001b[38;5;28mcallable\u001b[39m(obj):\n\u001b[1;32m    103\u001b[0m     \u001b[38;5;28;01mreturn\u001b[39;00m obj\n\u001b[0;32m--> 104\u001b[0m \u001b[38;5;28;01mraise\u001b[39;00m \u001b[38;5;167;01mValueError\u001b[39;00m(\n\u001b[1;32m    105\u001b[0m     \u001b[38;5;124mf\u001b[39m\u001b[38;5;124m\"\u001b[39m\u001b[38;5;124mCould not interpret activation function identifier: \u001b[39m\u001b[38;5;132;01m{\u001b[39;00midentifier\u001b[38;5;132;01m}\u001b[39;00m\u001b[38;5;124m\"\u001b[39m\n\u001b[1;32m    106\u001b[0m )\n",
      "\u001b[0;31mValueError\u001b[0m: Could not interpret activation function identifier: fourier"
     ]
    }
   ],
   "source": [
    "import tensorflow as tf\n",
    "#from tensorflow.keras.utils import get_custom_objects\n",
    "#from tensorflow.keras.layers import Activation\n",
    "\n",
    "def fourier_activation_lambda(freq):\n",
    "    fn = lambda x : tf.sin(freq*x)\n",
    "    return(fn)\n",
    "\n",
    "freq = 1.0\n",
    "fourier = fourier_activation_lambda(freq)\n",
    "\n",
    "custom_objects = tf.keras.utils.get_custom_objects()\n",
    "\n",
    "custom_objects[\"fourier\"] = tf.keras.layers.Activation(fourier)\n",
    "\n",
    "print(custom_objects)\n",
    "print(3*\"\\n\")\n",
    "print(f\"After addition: {tf.keras.utils.get_custom_objects()=}\")\n",
    "\n",
    "x_input = tf.keras.Input(shape=[5])\n",
    "layer_2 = tf.keras.layers.Dense(100, input_shape = [5],\n",
    "                                activation=\"fourier\",\n",
    "                                )(x_input)\n",
    "\n",
    "model = tf.keras.Model(inputs=x_input, outputs=layer_2)\n",
    "model.compile(optimizer='adam', loss='mse')\n",
    "model.summary()"
   ]
  },
  {
   "cell_type": "code",
   "execution_count": 1,
   "id": "06773242-aae6-4a80-8f3a-84bfbcbf5b1c",
   "metadata": {
    "scrolled": true
   },
   "outputs": [
    {
     "name": "stdout",
     "output_type": "stream",
     "text": [
      "Sun Sep 22 16:56:41 2024       \n",
      "+---------------------------------------------------------------------------------------+\n",
      "| NVIDIA-SMI 535.161.07             Driver Version: 535.161.07   CUDA Version: 12.2     |\n",
      "|-----------------------------------------+----------------------+----------------------+\n",
      "| GPU  Name                 Persistence-M | Bus-Id        Disp.A | Volatile Uncorr. ECC |\n",
      "| Fan  Temp   Perf          Pwr:Usage/Cap |         Memory-Usage | GPU-Util  Compute M. |\n",
      "|                                         |                      |               MIG M. |\n",
      "|=========================================+======================+======================|\n",
      "|   0  NVIDIA GeForce GTX 1070        Off | 00000000:17:00.0 Off |                  N/A |\n",
      "| 36%   32C    P8               6W / 151W |     86MiB /  8192MiB |      0%      Default |\n",
      "|                                         |                      |                  N/A |\n",
      "+-----------------------------------------+----------------------+----------------------+\n",
      "|   1  NVIDIA RTX A6000               Off | 00000000:65:00.0 Off |                  Off |\n",
      "| 30%   42C    P8              19W / 300W |    976MiB / 49140MiB |      0%      Default |\n",
      "|                                         |                      |                  N/A |\n",
      "+-----------------------------------------+----------------------+----------------------+\n",
      "                                                                                         \n",
      "+---------------------------------------------------------------------------------------+\n",
      "| Processes:                                                                            |\n",
      "|  GPU   GI   CI        PID   Type   Process name                            GPU Memory |\n",
      "|        ID   ID                                                             Usage      |\n",
      "|=======================================================================================|\n",
      "|    0   N/A  N/A    141401      C   ...a2/forge3/envs/mamba3.11/bin/python       82MiB |\n",
      "|    1   N/A  N/A    141401      C   ...a2/forge3/envs/mamba3.11/bin/python      970MiB |\n",
      "+---------------------------------------------------------------------------------------+\n"
     ]
    }
   ],
   "source": [
    "!nvidia-smi"
   ]
  },
  {
   "cell_type": "code",
   "execution_count": 2,
   "id": "04c24c9c-ef33-4107-af64-cd20edf9d616",
   "metadata": {},
   "outputs": [
    {
     "name": "stderr",
     "output_type": "stream",
     "text": [
      "2024-09-22 16:56:41.461393: I tensorflow/core/util/port.cc:153] oneDNN custom operations are on. You may see slightly different numerical results due to floating-point round-off errors from different computation orders. To turn them off, set the environment variable `TF_ENABLE_ONEDNN_OPTS=0`.\n",
      "2024-09-22 16:56:41.471284: E external/local_xla/xla/stream_executor/cuda/cuda_fft.cc:485] Unable to register cuFFT factory: Attempting to register factory for plugin cuFFT when one has already been registered\n",
      "2024-09-22 16:56:41.483218: E external/local_xla/xla/stream_executor/cuda/cuda_dnn.cc:8454] Unable to register cuDNN factory: Attempting to register factory for plugin cuDNN when one has already been registered\n",
      "2024-09-22 16:56:41.486905: E external/local_xla/xla/stream_executor/cuda/cuda_blas.cc:1452] Unable to register cuBLAS factory: Attempting to register factory for plugin cuBLAS when one has already been registered\n",
      "2024-09-22 16:56:41.495735: I tensorflow/core/platform/cpu_feature_guard.cc:210] This TensorFlow binary is optimized to use available CPU instructions in performance-critical operations.\n",
      "To enable the following instructions: AVX2 AVX512F AVX512_VNNI FMA, in other operations, rebuild TensorFlow with the appropriate compiler flags.\n",
      "2024-09-22 16:56:42.127934: W tensorflow/compiler/tf2tensorrt/utils/py_utils.cc:38] TF-TRT Warning: Could not find TensorRT\n"
     ]
    }
   ],
   "source": [
    "import tensorflow as tf\n",
    "\n",
    "L = tf.keras.layers\n",
    "M = tf.keras.models"
   ]
  },
  {
   "cell_type": "markdown",
   "id": "ed66c671-77cc-4e35-9bfe-38525305ad98",
   "metadata": {},
   "source": [
    "# NETWORKS DEFINITION"
   ]
  },
  {
   "cell_type": "markdown",
   "id": "c2529a64-0b77-4969-8411-b7b7655b31c3",
   "metadata": {},
   "source": [
    "## PNET"
   ]
  },
  {
   "cell_type": "code",
   "execution_count": 3,
   "id": "1bfcc642-8556-4ba1-8d34-87f43b19c1f8",
   "metadata": {},
   "outputs": [
    {
     "data": {
      "text/plain": [
       "keras.src.layers.layer.Layer"
      ]
     },
     "execution_count": 3,
     "metadata": {},
     "output_type": "execute_result"
    }
   ],
   "source": [
    "tf.keras.Layer"
   ]
  },
  {
   "cell_type": "code",
   "execution_count": 4,
   "id": "31325faa-9e52-4934-8d5a-3bac3a9451b5",
   "metadata": {},
   "outputs": [
    {
     "name": "stderr",
     "output_type": "stream",
     "text": [
      "2024-09-22 16:56:42.906469: I tensorflow/core/common_runtime/gpu/gpu_device.cc:2021] Created device /job:localhost/replica:0/task:0/device:GPU:0 with 45892 MB memory:  -> device: 0, name: NVIDIA RTX A6000, pci bus id: 0000:65:00.0, compute capability: 8.6\n",
      "2024-09-22 16:56:42.906933: I tensorflow/core/common_runtime/gpu/gpu_device.cc:2021] Created device /job:localhost/replica:0/task:0/device:GPU:1 with 7445 MB memory:  -> device: 1, name: NVIDIA GeForce GTX 1070, pci bus id: 0000:17:00.0, compute capability: 6.1\n"
     ]
    },
    {
     "data": {
      "text/html": [
       "<pre style=\"white-space:pre;overflow-x:auto;line-height:normal;font-family:Menlo,'DejaVu Sans Mono',consolas,'Courier New',monospace\"><span style=\"font-weight: bold\">Model: \"functional\"</span>\n",
       "</pre>\n"
      ],
      "text/plain": [
       "\u001b[1mModel: \"functional\"\u001b[0m\n"
      ]
     },
     "metadata": {},
     "output_type": "display_data"
    },
    {
     "data": {
      "text/html": [
       "<pre style=\"white-space:pre;overflow-x:auto;line-height:normal;font-family:Menlo,'DejaVu Sans Mono',consolas,'Courier New',monospace\">┏━━━━━━━━━━━━━━━━━━━━━┳━━━━━━━━━━━━━━━━━━━┳━━━━━━━━━━━━┳━━━━━━━━━━━━━━━━━━━┓\n",
       "┃<span style=\"font-weight: bold\"> Layer (type)        </span>┃<span style=\"font-weight: bold\"> Output Shape      </span>┃<span style=\"font-weight: bold\">    Param # </span>┃<span style=\"font-weight: bold\"> Connected to      </span>┃\n",
       "┡━━━━━━━━━━━━━━━━━━━━━╇━━━━━━━━━━━━━━━━━━━╇━━━━━━━━━━━━╇━━━━━━━━━━━━━━━━━━━┩\n",
       "│ input1 (<span style=\"color: #0087ff; text-decoration-color: #0087ff\">InputLayer</span>) │ (<span style=\"color: #00d7ff; text-decoration-color: #00d7ff\">None</span>, <span style=\"color: #00d7ff; text-decoration-color: #00d7ff\">None</span>,      │          <span style=\"color: #00af00; text-decoration-color: #00af00\">0</span> │ -                 │\n",
       "│                     │ <span style=\"color: #00d7ff; text-decoration-color: #00d7ff\">None</span>, <span style=\"color: #00af00; text-decoration-color: #00af00\">3</span>)          │            │                   │\n",
       "├─────────────────────┼───────────────────┼────────────┼───────────────────┤\n",
       "│ conv1 (<span style=\"color: #0087ff; text-decoration-color: #0087ff\">Conv2D</span>)      │ (<span style=\"color: #00d7ff; text-decoration-color: #00d7ff\">None</span>, <span style=\"color: #00d7ff; text-decoration-color: #00d7ff\">None</span>,      │        <span style=\"color: #00af00; text-decoration-color: #00af00\">280</span> │ input1[<span style=\"color: #00af00; text-decoration-color: #00af00\">0</span>][<span style=\"color: #00af00; text-decoration-color: #00af00\">0</span>]      │\n",
       "│                     │ <span style=\"color: #00d7ff; text-decoration-color: #00d7ff\">None</span>, <span style=\"color: #00af00; text-decoration-color: #00af00\">10</span>)         │            │                   │\n",
       "├─────────────────────┼───────────────────┼────────────┼───────────────────┤\n",
       "│ prelu1 (<span style=\"color: #0087ff; text-decoration-color: #0087ff\">PReLU</span>)      │ (<span style=\"color: #00d7ff; text-decoration-color: #00d7ff\">None</span>, <span style=\"color: #00d7ff; text-decoration-color: #00d7ff\">None</span>,      │         <span style=\"color: #00af00; text-decoration-color: #00af00\">10</span> │ conv1[<span style=\"color: #00af00; text-decoration-color: #00af00\">0</span>][<span style=\"color: #00af00; text-decoration-color: #00af00\">0</span>]       │\n",
       "│                     │ <span style=\"color: #00d7ff; text-decoration-color: #00d7ff\">None</span>, <span style=\"color: #00af00; text-decoration-color: #00af00\">10</span>)         │            │                   │\n",
       "├─────────────────────┼───────────────────┼────────────┼───────────────────┤\n",
       "│ maxpooling1         │ (<span style=\"color: #00d7ff; text-decoration-color: #00d7ff\">None</span>, <span style=\"color: #00d7ff; text-decoration-color: #00d7ff\">None</span>,      │          <span style=\"color: #00af00; text-decoration-color: #00af00\">0</span> │ prelu1[<span style=\"color: #00af00; text-decoration-color: #00af00\">0</span>][<span style=\"color: #00af00; text-decoration-color: #00af00\">0</span>]      │\n",
       "│ (<span style=\"color: #0087ff; text-decoration-color: #0087ff\">MaxPooling2D</span>)      │ <span style=\"color: #00d7ff; text-decoration-color: #00d7ff\">None</span>, <span style=\"color: #00af00; text-decoration-color: #00af00\">10</span>)         │            │                   │\n",
       "├─────────────────────┼───────────────────┼────────────┼───────────────────┤\n",
       "│ conv2 (<span style=\"color: #0087ff; text-decoration-color: #0087ff\">Conv2D</span>)      │ (<span style=\"color: #00d7ff; text-decoration-color: #00d7ff\">None</span>, <span style=\"color: #00d7ff; text-decoration-color: #00d7ff\">None</span>,      │      <span style=\"color: #00af00; text-decoration-color: #00af00\">1,456</span> │ maxpooling1[<span style=\"color: #00af00; text-decoration-color: #00af00\">0</span>][<span style=\"color: #00af00; text-decoration-color: #00af00\">0</span>] │\n",
       "│                     │ <span style=\"color: #00d7ff; text-decoration-color: #00d7ff\">None</span>, <span style=\"color: #00af00; text-decoration-color: #00af00\">16</span>)         │            │                   │\n",
       "├─────────────────────┼───────────────────┼────────────┼───────────────────┤\n",
       "│ prelu2 (<span style=\"color: #0087ff; text-decoration-color: #0087ff\">PReLU</span>)      │ (<span style=\"color: #00d7ff; text-decoration-color: #00d7ff\">None</span>, <span style=\"color: #00d7ff; text-decoration-color: #00d7ff\">None</span>,      │         <span style=\"color: #00af00; text-decoration-color: #00af00\">16</span> │ conv2[<span style=\"color: #00af00; text-decoration-color: #00af00\">0</span>][<span style=\"color: #00af00; text-decoration-color: #00af00\">0</span>]       │\n",
       "│                     │ <span style=\"color: #00d7ff; text-decoration-color: #00d7ff\">None</span>, <span style=\"color: #00af00; text-decoration-color: #00af00\">16</span>)         │            │                   │\n",
       "├─────────────────────┼───────────────────┼────────────┼───────────────────┤\n",
       "│ conv3 (<span style=\"color: #0087ff; text-decoration-color: #0087ff\">Conv2D</span>)      │ (<span style=\"color: #00d7ff; text-decoration-color: #00d7ff\">None</span>, <span style=\"color: #00d7ff; text-decoration-color: #00d7ff\">None</span>,      │      <span style=\"color: #00af00; text-decoration-color: #00af00\">4,640</span> │ prelu2[<span style=\"color: #00af00; text-decoration-color: #00af00\">0</span>][<span style=\"color: #00af00; text-decoration-color: #00af00\">0</span>]      │\n",
       "│                     │ <span style=\"color: #00d7ff; text-decoration-color: #00d7ff\">None</span>, <span style=\"color: #00af00; text-decoration-color: #00af00\">32</span>)         │            │                   │\n",
       "├─────────────────────┼───────────────────┼────────────┼───────────────────┤\n",
       "│ prelu3 (<span style=\"color: #0087ff; text-decoration-color: #0087ff\">PReLU</span>)      │ (<span style=\"color: #00d7ff; text-decoration-color: #00d7ff\">None</span>, <span style=\"color: #00d7ff; text-decoration-color: #00d7ff\">None</span>,      │         <span style=\"color: #00af00; text-decoration-color: #00af00\">32</span> │ conv3[<span style=\"color: #00af00; text-decoration-color: #00af00\">0</span>][<span style=\"color: #00af00; text-decoration-color: #00af00\">0</span>]       │\n",
       "│                     │ <span style=\"color: #00d7ff; text-decoration-color: #00d7ff\">None</span>, <span style=\"color: #00af00; text-decoration-color: #00af00\">32</span>)         │            │                   │\n",
       "├─────────────────────┼───────────────────┼────────────┼───────────────────┤\n",
       "│ conv4-1 (<span style=\"color: #0087ff; text-decoration-color: #0087ff\">Conv2D</span>)    │ (<span style=\"color: #00d7ff; text-decoration-color: #00d7ff\">None</span>, <span style=\"color: #00d7ff; text-decoration-color: #00d7ff\">None</span>,      │        <span style=\"color: #00af00; text-decoration-color: #00af00\">132</span> │ prelu3[<span style=\"color: #00af00; text-decoration-color: #00af00\">0</span>][<span style=\"color: #00af00; text-decoration-color: #00af00\">0</span>]      │\n",
       "│                     │ <span style=\"color: #00d7ff; text-decoration-color: #00d7ff\">None</span>, <span style=\"color: #00af00; text-decoration-color: #00af00\">4</span>)          │            │                   │\n",
       "├─────────────────────┼───────────────────┼────────────┼───────────────────┤\n",
       "│ conv4-2 (<span style=\"color: #0087ff; text-decoration-color: #0087ff\">Conv2D</span>)    │ (<span style=\"color: #00d7ff; text-decoration-color: #00d7ff\">None</span>, <span style=\"color: #00d7ff; text-decoration-color: #00d7ff\">None</span>,      │         <span style=\"color: #00af00; text-decoration-color: #00af00\">66</span> │ prelu3[<span style=\"color: #00af00; text-decoration-color: #00af00\">0</span>][<span style=\"color: #00af00; text-decoration-color: #00af00\">0</span>]      │\n",
       "│                     │ <span style=\"color: #00d7ff; text-decoration-color: #00d7ff\">None</span>, <span style=\"color: #00af00; text-decoration-color: #00af00\">2</span>)          │            │                   │\n",
       "└─────────────────────┴───────────────────┴────────────┴───────────────────┘\n",
       "</pre>\n"
      ],
      "text/plain": [
       "┏━━━━━━━━━━━━━━━━━━━━━┳━━━━━━━━━━━━━━━━━━━┳━━━━━━━━━━━━┳━━━━━━━━━━━━━━━━━━━┓\n",
       "┃\u001b[1m \u001b[0m\u001b[1mLayer (type)       \u001b[0m\u001b[1m \u001b[0m┃\u001b[1m \u001b[0m\u001b[1mOutput Shape     \u001b[0m\u001b[1m \u001b[0m┃\u001b[1m \u001b[0m\u001b[1m   Param #\u001b[0m\u001b[1m \u001b[0m┃\u001b[1m \u001b[0m\u001b[1mConnected to     \u001b[0m\u001b[1m \u001b[0m┃\n",
       "┡━━━━━━━━━━━━━━━━━━━━━╇━━━━━━━━━━━━━━━━━━━╇━━━━━━━━━━━━╇━━━━━━━━━━━━━━━━━━━┩\n",
       "│ input1 (\u001b[38;5;33mInputLayer\u001b[0m) │ (\u001b[38;5;45mNone\u001b[0m, \u001b[38;5;45mNone\u001b[0m,      │          \u001b[38;5;34m0\u001b[0m │ -                 │\n",
       "│                     │ \u001b[38;5;45mNone\u001b[0m, \u001b[38;5;34m3\u001b[0m)          │            │                   │\n",
       "├─────────────────────┼───────────────────┼────────────┼───────────────────┤\n",
       "│ conv1 (\u001b[38;5;33mConv2D\u001b[0m)      │ (\u001b[38;5;45mNone\u001b[0m, \u001b[38;5;45mNone\u001b[0m,      │        \u001b[38;5;34m280\u001b[0m │ input1[\u001b[38;5;34m0\u001b[0m][\u001b[38;5;34m0\u001b[0m]      │\n",
       "│                     │ \u001b[38;5;45mNone\u001b[0m, \u001b[38;5;34m10\u001b[0m)         │            │                   │\n",
       "├─────────────────────┼───────────────────┼────────────┼───────────────────┤\n",
       "│ prelu1 (\u001b[38;5;33mPReLU\u001b[0m)      │ (\u001b[38;5;45mNone\u001b[0m, \u001b[38;5;45mNone\u001b[0m,      │         \u001b[38;5;34m10\u001b[0m │ conv1[\u001b[38;5;34m0\u001b[0m][\u001b[38;5;34m0\u001b[0m]       │\n",
       "│                     │ \u001b[38;5;45mNone\u001b[0m, \u001b[38;5;34m10\u001b[0m)         │            │                   │\n",
       "├─────────────────────┼───────────────────┼────────────┼───────────────────┤\n",
       "│ maxpooling1         │ (\u001b[38;5;45mNone\u001b[0m, \u001b[38;5;45mNone\u001b[0m,      │          \u001b[38;5;34m0\u001b[0m │ prelu1[\u001b[38;5;34m0\u001b[0m][\u001b[38;5;34m0\u001b[0m]      │\n",
       "│ (\u001b[38;5;33mMaxPooling2D\u001b[0m)      │ \u001b[38;5;45mNone\u001b[0m, \u001b[38;5;34m10\u001b[0m)         │            │                   │\n",
       "├─────────────────────┼───────────────────┼────────────┼───────────────────┤\n",
       "│ conv2 (\u001b[38;5;33mConv2D\u001b[0m)      │ (\u001b[38;5;45mNone\u001b[0m, \u001b[38;5;45mNone\u001b[0m,      │      \u001b[38;5;34m1,456\u001b[0m │ maxpooling1[\u001b[38;5;34m0\u001b[0m][\u001b[38;5;34m0\u001b[0m] │\n",
       "│                     │ \u001b[38;5;45mNone\u001b[0m, \u001b[38;5;34m16\u001b[0m)         │            │                   │\n",
       "├─────────────────────┼───────────────────┼────────────┼───────────────────┤\n",
       "│ prelu2 (\u001b[38;5;33mPReLU\u001b[0m)      │ (\u001b[38;5;45mNone\u001b[0m, \u001b[38;5;45mNone\u001b[0m,      │         \u001b[38;5;34m16\u001b[0m │ conv2[\u001b[38;5;34m0\u001b[0m][\u001b[38;5;34m0\u001b[0m]       │\n",
       "│                     │ \u001b[38;5;45mNone\u001b[0m, \u001b[38;5;34m16\u001b[0m)         │            │                   │\n",
       "├─────────────────────┼───────────────────┼────────────┼───────────────────┤\n",
       "│ conv3 (\u001b[38;5;33mConv2D\u001b[0m)      │ (\u001b[38;5;45mNone\u001b[0m, \u001b[38;5;45mNone\u001b[0m,      │      \u001b[38;5;34m4,640\u001b[0m │ prelu2[\u001b[38;5;34m0\u001b[0m][\u001b[38;5;34m0\u001b[0m]      │\n",
       "│                     │ \u001b[38;5;45mNone\u001b[0m, \u001b[38;5;34m32\u001b[0m)         │            │                   │\n",
       "├─────────────────────┼───────────────────┼────────────┼───────────────────┤\n",
       "│ prelu3 (\u001b[38;5;33mPReLU\u001b[0m)      │ (\u001b[38;5;45mNone\u001b[0m, \u001b[38;5;45mNone\u001b[0m,      │         \u001b[38;5;34m32\u001b[0m │ conv3[\u001b[38;5;34m0\u001b[0m][\u001b[38;5;34m0\u001b[0m]       │\n",
       "│                     │ \u001b[38;5;45mNone\u001b[0m, \u001b[38;5;34m32\u001b[0m)         │            │                   │\n",
       "├─────────────────────┼───────────────────┼────────────┼───────────────────┤\n",
       "│ conv4-1 (\u001b[38;5;33mConv2D\u001b[0m)    │ (\u001b[38;5;45mNone\u001b[0m, \u001b[38;5;45mNone\u001b[0m,      │        \u001b[38;5;34m132\u001b[0m │ prelu3[\u001b[38;5;34m0\u001b[0m][\u001b[38;5;34m0\u001b[0m]      │\n",
       "│                     │ \u001b[38;5;45mNone\u001b[0m, \u001b[38;5;34m4\u001b[0m)          │            │                   │\n",
       "├─────────────────────┼───────────────────┼────────────┼───────────────────┤\n",
       "│ conv4-2 (\u001b[38;5;33mConv2D\u001b[0m)    │ (\u001b[38;5;45mNone\u001b[0m, \u001b[38;5;45mNone\u001b[0m,      │         \u001b[38;5;34m66\u001b[0m │ prelu3[\u001b[38;5;34m0\u001b[0m][\u001b[38;5;34m0\u001b[0m]      │\n",
       "│                     │ \u001b[38;5;45mNone\u001b[0m, \u001b[38;5;34m2\u001b[0m)          │            │                   │\n",
       "└─────────────────────┴───────────────────┴────────────┴───────────────────┘\n"
      ]
     },
     "metadata": {},
     "output_type": "display_data"
    },
    {
     "data": {
      "text/html": [
       "<pre style=\"white-space:pre;overflow-x:auto;line-height:normal;font-family:Menlo,'DejaVu Sans Mono',consolas,'Courier New',monospace\"><span style=\"font-weight: bold\"> Total params: </span><span style=\"color: #00af00; text-decoration-color: #00af00\">6,632</span> (25.91 KB)\n",
       "</pre>\n"
      ],
      "text/plain": [
       "\u001b[1m Total params: \u001b[0m\u001b[38;5;34m6,632\u001b[0m (25.91 KB)\n"
      ]
     },
     "metadata": {},
     "output_type": "display_data"
    },
    {
     "data": {
      "text/html": [
       "<pre style=\"white-space:pre;overflow-x:auto;line-height:normal;font-family:Menlo,'DejaVu Sans Mono',consolas,'Courier New',monospace\"><span style=\"font-weight: bold\"> Trainable params: </span><span style=\"color: #00af00; text-decoration-color: #00af00\">6,632</span> (25.91 KB)\n",
       "</pre>\n"
      ],
      "text/plain": [
       "\u001b[1m Trainable params: \u001b[0m\u001b[38;5;34m6,632\u001b[0m (25.91 KB)\n"
      ]
     },
     "metadata": {},
     "output_type": "display_data"
    },
    {
     "data": {
      "text/html": [
       "<pre style=\"white-space:pre;overflow-x:auto;line-height:normal;font-family:Menlo,'DejaVu Sans Mono',consolas,'Courier New',monospace\"><span style=\"font-weight: bold\"> Non-trainable params: </span><span style=\"color: #00af00; text-decoration-color: #00af00\">0</span> (0.00 B)\n",
       "</pre>\n"
      ],
      "text/plain": [
       "\u001b[1m Non-trainable params: \u001b[0m\u001b[38;5;34m0\u001b[0m (0.00 B)\n"
      ]
     },
     "metadata": {},
     "output_type": "display_data"
    }
   ],
   "source": [
    "def build_pnet(permutations=True):\n",
    "    inp = L.Input((None, None, 3), name=\"input1\")\n",
    "\n",
    "    layer = L.Permute((2, 1, 3))(inp) if permutations else inp\n",
    "    layer = L.Conv2D(10, kernel_size=(3,3), strides=(1,1), padding=\"valid\", activation=\"linear\", name=\"conv1\")(layer)\n",
    "    layer = L.PReLU(shared_axes=[1, 2], name=\"prelu1\")(layer)\n",
    "    layer = L.MaxPooling2D(pool_size=(2,2), strides=(2,2), padding=\"same\", name=\"maxpooling1\")(layer)\n",
    "        \n",
    "    layer = L.Conv2D(16, kernel_size=(3,3), strides=(1,1), padding=\"valid\", activation=\"linear\", name=\"conv2\")(layer)\n",
    "    layer = L.PReLU(shared_axes=[1, 2], name=\"prelu2\")(layer)\n",
    "    \n",
    "    layer = L.Conv2D(32, kernel_size=(3,3), strides=(1,1), padding=\"valid\", activation=\"linear\", name=\"conv3\")(layer)\n",
    "    layer_middle = L.PReLU(shared_axes=[1, 2], name=\"prelu3\")(layer)\n",
    "    \n",
    "    layer_out1 = L.Conv2D(4, kernel_size=(1,1), strides=(1,1), padding=\"valid\", activation=\"linear\", name=\"conv4-1\")(layer_middle)\n",
    "    layer_out1 = L.Permute((2, 1, 3))(layer_out1) if permutations else layer_out1\n",
    "    \n",
    "    layer_out2 = L.Conv2D(2, kernel_size=(1,1), strides=(1,1), padding=\"valid\", activation=\"softmax\", name=\"conv4-2\")(layer_middle)\n",
    "    layer_out2 = L.Permute((2, 1, 3))(layer_out2) if permutations else layer_out2\n",
    "    \n",
    "    pnet = M.Model(inp, [layer_out1, layer_out2])\n",
    "    return pnet\n",
    "\n",
    "pnet = build_pnet(permutations=False)\n",
    "pnet.summary()"
   ]
  },
  {
   "cell_type": "code",
   "execution_count": 5,
   "id": "2d1ef2ba-4f7d-4875-b775-101d4f3eaf6c",
   "metadata": {},
   "outputs": [
    {
     "data": {
      "text/plain": [
       "10"
      ]
     },
     "execution_count": 5,
     "metadata": {},
     "output_type": "execute_result"
    }
   ],
   "source": [
    "len(pnet.layers)"
   ]
  },
  {
   "cell_type": "markdown",
   "id": "479f5f4a-0a83-4e3f-9529-372f6017ab24",
   "metadata": {},
   "source": [
    "## RNET"
   ]
  },
  {
   "cell_type": "code",
   "execution_count": 28,
   "id": "9fdb5007-9bae-4bb2-abab-02369340392b",
   "metadata": {},
   "outputs": [
    {
     "data": {
      "text/html": [
       "<pre style=\"white-space:pre;overflow-x:auto;line-height:normal;font-family:Menlo,'DejaVu Sans Mono',consolas,'Courier New',monospace\"><span style=\"font-weight: bold\">Model: \"functional_3\"</span>\n",
       "</pre>\n"
      ],
      "text/plain": [
       "\u001b[1mModel: \"functional_3\"\u001b[0m\n"
      ]
     },
     "metadata": {},
     "output_type": "display_data"
    },
    {
     "data": {
      "text/html": [
       "<pre style=\"white-space:pre;overflow-x:auto;line-height:normal;font-family:Menlo,'DejaVu Sans Mono',consolas,'Courier New',monospace\">┏━━━━━━━━━━━━━━━━━━━━━┳━━━━━━━━━━━━━━━━━━━┳━━━━━━━━━━━━┳━━━━━━━━━━━━━━━━━━━┓\n",
       "┃<span style=\"font-weight: bold\"> Layer (type)        </span>┃<span style=\"font-weight: bold\"> Output Shape      </span>┃<span style=\"font-weight: bold\">    Param # </span>┃<span style=\"font-weight: bold\"> Connected to      </span>┃\n",
       "┡━━━━━━━━━━━━━━━━━━━━━╇━━━━━━━━━━━━━━━━━━━╇━━━━━━━━━━━━╇━━━━━━━━━━━━━━━━━━━┩\n",
       "│ input1 (<span style=\"color: #0087ff; text-decoration-color: #0087ff\">InputLayer</span>) │ (<span style=\"color: #00d7ff; text-decoration-color: #00d7ff\">None</span>, <span style=\"color: #00af00; text-decoration-color: #00af00\">24</span>, <span style=\"color: #00af00; text-decoration-color: #00af00\">24</span>, <span style=\"color: #00af00; text-decoration-color: #00af00\">3</span>) │          <span style=\"color: #00af00; text-decoration-color: #00af00\">0</span> │ -                 │\n",
       "├─────────────────────┼───────────────────┼────────────┼───────────────────┤\n",
       "│ conv1 (<span style=\"color: #0087ff; text-decoration-color: #0087ff\">Conv2D</span>)      │ (<span style=\"color: #00d7ff; text-decoration-color: #00d7ff\">None</span>, <span style=\"color: #00af00; text-decoration-color: #00af00\">22</span>, <span style=\"color: #00af00; text-decoration-color: #00af00\">22</span>,    │        <span style=\"color: #00af00; text-decoration-color: #00af00\">784</span> │ input1[<span style=\"color: #00af00; text-decoration-color: #00af00\">0</span>][<span style=\"color: #00af00; text-decoration-color: #00af00\">0</span>]      │\n",
       "│                     │ <span style=\"color: #00af00; text-decoration-color: #00af00\">28</span>)               │            │                   │\n",
       "├─────────────────────┼───────────────────┼────────────┼───────────────────┤\n",
       "│ prelu1 (<span style=\"color: #0087ff; text-decoration-color: #0087ff\">PReLU</span>)      │ (<span style=\"color: #00d7ff; text-decoration-color: #00d7ff\">None</span>, <span style=\"color: #00af00; text-decoration-color: #00af00\">22</span>, <span style=\"color: #00af00; text-decoration-color: #00af00\">22</span>,    │         <span style=\"color: #00af00; text-decoration-color: #00af00\">28</span> │ conv1[<span style=\"color: #00af00; text-decoration-color: #00af00\">0</span>][<span style=\"color: #00af00; text-decoration-color: #00af00\">0</span>]       │\n",
       "│                     │ <span style=\"color: #00af00; text-decoration-color: #00af00\">28</span>)               │            │                   │\n",
       "├─────────────────────┼───────────────────┼────────────┼───────────────────┤\n",
       "│ maxpooling1         │ (<span style=\"color: #00d7ff; text-decoration-color: #00d7ff\">None</span>, <span style=\"color: #00af00; text-decoration-color: #00af00\">11</span>, <span style=\"color: #00af00; text-decoration-color: #00af00\">11</span>,    │          <span style=\"color: #00af00; text-decoration-color: #00af00\">0</span> │ prelu1[<span style=\"color: #00af00; text-decoration-color: #00af00\">0</span>][<span style=\"color: #00af00; text-decoration-color: #00af00\">0</span>]      │\n",
       "│ (<span style=\"color: #0087ff; text-decoration-color: #0087ff\">MaxPooling2D</span>)      │ <span style=\"color: #00af00; text-decoration-color: #00af00\">28</span>)               │            │                   │\n",
       "├─────────────────────┼───────────────────┼────────────┼───────────────────┤\n",
       "│ conv2 (<span style=\"color: #0087ff; text-decoration-color: #0087ff\">Conv2D</span>)      │ (<span style=\"color: #00d7ff; text-decoration-color: #00d7ff\">None</span>, <span style=\"color: #00af00; text-decoration-color: #00af00\">9</span>, <span style=\"color: #00af00; text-decoration-color: #00af00\">9</span>, <span style=\"color: #00af00; text-decoration-color: #00af00\">48</span>)  │     <span style=\"color: #00af00; text-decoration-color: #00af00\">12,144</span> │ maxpooling1[<span style=\"color: #00af00; text-decoration-color: #00af00\">0</span>][<span style=\"color: #00af00; text-decoration-color: #00af00\">0</span>] │\n",
       "├─────────────────────┼───────────────────┼────────────┼───────────────────┤\n",
       "│ prelu2 (<span style=\"color: #0087ff; text-decoration-color: #0087ff\">PReLU</span>)      │ (<span style=\"color: #00d7ff; text-decoration-color: #00d7ff\">None</span>, <span style=\"color: #00af00; text-decoration-color: #00af00\">9</span>, <span style=\"color: #00af00; text-decoration-color: #00af00\">9</span>, <span style=\"color: #00af00; text-decoration-color: #00af00\">48</span>)  │         <span style=\"color: #00af00; text-decoration-color: #00af00\">48</span> │ conv2[<span style=\"color: #00af00; text-decoration-color: #00af00\">0</span>][<span style=\"color: #00af00; text-decoration-color: #00af00\">0</span>]       │\n",
       "├─────────────────────┼───────────────────┼────────────┼───────────────────┤\n",
       "│ maxpooling2         │ (<span style=\"color: #00d7ff; text-decoration-color: #00d7ff\">None</span>, <span style=\"color: #00af00; text-decoration-color: #00af00\">4</span>, <span style=\"color: #00af00; text-decoration-color: #00af00\">4</span>, <span style=\"color: #00af00; text-decoration-color: #00af00\">48</span>)  │          <span style=\"color: #00af00; text-decoration-color: #00af00\">0</span> │ prelu2[<span style=\"color: #00af00; text-decoration-color: #00af00\">0</span>][<span style=\"color: #00af00; text-decoration-color: #00af00\">0</span>]      │\n",
       "│ (<span style=\"color: #0087ff; text-decoration-color: #0087ff\">MaxPooling2D</span>)      │                   │            │                   │\n",
       "├─────────────────────┼───────────────────┼────────────┼───────────────────┤\n",
       "│ conv3 (<span style=\"color: #0087ff; text-decoration-color: #0087ff\">Conv2D</span>)      │ (<span style=\"color: #00d7ff; text-decoration-color: #00d7ff\">None</span>, <span style=\"color: #00af00; text-decoration-color: #00af00\">3</span>, <span style=\"color: #00af00; text-decoration-color: #00af00\">3</span>, <span style=\"color: #00af00; text-decoration-color: #00af00\">64</span>)  │     <span style=\"color: #00af00; text-decoration-color: #00af00\">12,352</span> │ maxpooling2[<span style=\"color: #00af00; text-decoration-color: #00af00\">0</span>][<span style=\"color: #00af00; text-decoration-color: #00af00\">0</span>] │\n",
       "├─────────────────────┼───────────────────┼────────────┼───────────────────┤\n",
       "│ prelu3 (<span style=\"color: #0087ff; text-decoration-color: #0087ff\">PReLU</span>)      │ (<span style=\"color: #00d7ff; text-decoration-color: #00d7ff\">None</span>, <span style=\"color: #00af00; text-decoration-color: #00af00\">3</span>, <span style=\"color: #00af00; text-decoration-color: #00af00\">3</span>, <span style=\"color: #00af00; text-decoration-color: #00af00\">64</span>)  │         <span style=\"color: #00af00; text-decoration-color: #00af00\">64</span> │ conv3[<span style=\"color: #00af00; text-decoration-color: #00af00\">0</span>][<span style=\"color: #00af00; text-decoration-color: #00af00\">0</span>]       │\n",
       "├─────────────────────┼───────────────────┼────────────┼───────────────────┤\n",
       "│ permute (<span style=\"color: #0087ff; text-decoration-color: #0087ff\">Permute</span>)   │ (<span style=\"color: #00d7ff; text-decoration-color: #00d7ff\">None</span>, <span style=\"color: #00af00; text-decoration-color: #00af00\">3</span>, <span style=\"color: #00af00; text-decoration-color: #00af00\">3</span>, <span style=\"color: #00af00; text-decoration-color: #00af00\">64</span>)  │          <span style=\"color: #00af00; text-decoration-color: #00af00\">0</span> │ prelu3[<span style=\"color: #00af00; text-decoration-color: #00af00\">0</span>][<span style=\"color: #00af00; text-decoration-color: #00af00\">0</span>]      │\n",
       "├─────────────────────┼───────────────────┼────────────┼───────────────────┤\n",
       "│ flatten3 (<span style=\"color: #0087ff; text-decoration-color: #0087ff\">Flatten</span>)  │ (<span style=\"color: #00d7ff; text-decoration-color: #00d7ff\">None</span>, <span style=\"color: #00af00; text-decoration-color: #00af00\">576</span>)       │          <span style=\"color: #00af00; text-decoration-color: #00af00\">0</span> │ permute[<span style=\"color: #00af00; text-decoration-color: #00af00\">0</span>][<span style=\"color: #00af00; text-decoration-color: #00af00\">0</span>]     │\n",
       "├─────────────────────┼───────────────────┼────────────┼───────────────────┤\n",
       "│ fc4 (<span style=\"color: #0087ff; text-decoration-color: #0087ff\">Dense</span>)         │ (<span style=\"color: #00d7ff; text-decoration-color: #00d7ff\">None</span>, <span style=\"color: #00af00; text-decoration-color: #00af00\">128</span>)       │     <span style=\"color: #00af00; text-decoration-color: #00af00\">73,856</span> │ flatten3[<span style=\"color: #00af00; text-decoration-color: #00af00\">0</span>][<span style=\"color: #00af00; text-decoration-color: #00af00\">0</span>]    │\n",
       "├─────────────────────┼───────────────────┼────────────┼───────────────────┤\n",
       "│ prelu4 (<span style=\"color: #0087ff; text-decoration-color: #0087ff\">PReLU</span>)      │ (<span style=\"color: #00d7ff; text-decoration-color: #00d7ff\">None</span>, <span style=\"color: #00af00; text-decoration-color: #00af00\">128</span>)       │        <span style=\"color: #00af00; text-decoration-color: #00af00\">128</span> │ fc4[<span style=\"color: #00af00; text-decoration-color: #00af00\">0</span>][<span style=\"color: #00af00; text-decoration-color: #00af00\">0</span>]         │\n",
       "├─────────────────────┼───────────────────┼────────────┼───────────────────┤\n",
       "│ fc5-1 (<span style=\"color: #0087ff; text-decoration-color: #0087ff\">Dense</span>)       │ (<span style=\"color: #00d7ff; text-decoration-color: #00d7ff\">None</span>, <span style=\"color: #00af00; text-decoration-color: #00af00\">4</span>)         │        <span style=\"color: #00af00; text-decoration-color: #00af00\">516</span> │ prelu4[<span style=\"color: #00af00; text-decoration-color: #00af00\">0</span>][<span style=\"color: #00af00; text-decoration-color: #00af00\">0</span>]      │\n",
       "├─────────────────────┼───────────────────┼────────────┼───────────────────┤\n",
       "│ fc5-2 (<span style=\"color: #0087ff; text-decoration-color: #0087ff\">Dense</span>)       │ (<span style=\"color: #00d7ff; text-decoration-color: #00d7ff\">None</span>, <span style=\"color: #00af00; text-decoration-color: #00af00\">2</span>)         │        <span style=\"color: #00af00; text-decoration-color: #00af00\">258</span> │ prelu4[<span style=\"color: #00af00; text-decoration-color: #00af00\">0</span>][<span style=\"color: #00af00; text-decoration-color: #00af00\">0</span>]      │\n",
       "└─────────────────────┴───────────────────┴────────────┴───────────────────┘\n",
       "</pre>\n"
      ],
      "text/plain": [
       "┏━━━━━━━━━━━━━━━━━━━━━┳━━━━━━━━━━━━━━━━━━━┳━━━━━━━━━━━━┳━━━━━━━━━━━━━━━━━━━┓\n",
       "┃\u001b[1m \u001b[0m\u001b[1mLayer (type)       \u001b[0m\u001b[1m \u001b[0m┃\u001b[1m \u001b[0m\u001b[1mOutput Shape     \u001b[0m\u001b[1m \u001b[0m┃\u001b[1m \u001b[0m\u001b[1m   Param #\u001b[0m\u001b[1m \u001b[0m┃\u001b[1m \u001b[0m\u001b[1mConnected to     \u001b[0m\u001b[1m \u001b[0m┃\n",
       "┡━━━━━━━━━━━━━━━━━━━━━╇━━━━━━━━━━━━━━━━━━━╇━━━━━━━━━━━━╇━━━━━━━━━━━━━━━━━━━┩\n",
       "│ input1 (\u001b[38;5;33mInputLayer\u001b[0m) │ (\u001b[38;5;45mNone\u001b[0m, \u001b[38;5;34m24\u001b[0m, \u001b[38;5;34m24\u001b[0m, \u001b[38;5;34m3\u001b[0m) │          \u001b[38;5;34m0\u001b[0m │ -                 │\n",
       "├─────────────────────┼───────────────────┼────────────┼───────────────────┤\n",
       "│ conv1 (\u001b[38;5;33mConv2D\u001b[0m)      │ (\u001b[38;5;45mNone\u001b[0m, \u001b[38;5;34m22\u001b[0m, \u001b[38;5;34m22\u001b[0m,    │        \u001b[38;5;34m784\u001b[0m │ input1[\u001b[38;5;34m0\u001b[0m][\u001b[38;5;34m0\u001b[0m]      │\n",
       "│                     │ \u001b[38;5;34m28\u001b[0m)               │            │                   │\n",
       "├─────────────────────┼───────────────────┼────────────┼───────────────────┤\n",
       "│ prelu1 (\u001b[38;5;33mPReLU\u001b[0m)      │ (\u001b[38;5;45mNone\u001b[0m, \u001b[38;5;34m22\u001b[0m, \u001b[38;5;34m22\u001b[0m,    │         \u001b[38;5;34m28\u001b[0m │ conv1[\u001b[38;5;34m0\u001b[0m][\u001b[38;5;34m0\u001b[0m]       │\n",
       "│                     │ \u001b[38;5;34m28\u001b[0m)               │            │                   │\n",
       "├─────────────────────┼───────────────────┼────────────┼───────────────────┤\n",
       "│ maxpooling1         │ (\u001b[38;5;45mNone\u001b[0m, \u001b[38;5;34m11\u001b[0m, \u001b[38;5;34m11\u001b[0m,    │          \u001b[38;5;34m0\u001b[0m │ prelu1[\u001b[38;5;34m0\u001b[0m][\u001b[38;5;34m0\u001b[0m]      │\n",
       "│ (\u001b[38;5;33mMaxPooling2D\u001b[0m)      │ \u001b[38;5;34m28\u001b[0m)               │            │                   │\n",
       "├─────────────────────┼───────────────────┼────────────┼───────────────────┤\n",
       "│ conv2 (\u001b[38;5;33mConv2D\u001b[0m)      │ (\u001b[38;5;45mNone\u001b[0m, \u001b[38;5;34m9\u001b[0m, \u001b[38;5;34m9\u001b[0m, \u001b[38;5;34m48\u001b[0m)  │     \u001b[38;5;34m12,144\u001b[0m │ maxpooling1[\u001b[38;5;34m0\u001b[0m][\u001b[38;5;34m0\u001b[0m] │\n",
       "├─────────────────────┼───────────────────┼────────────┼───────────────────┤\n",
       "│ prelu2 (\u001b[38;5;33mPReLU\u001b[0m)      │ (\u001b[38;5;45mNone\u001b[0m, \u001b[38;5;34m9\u001b[0m, \u001b[38;5;34m9\u001b[0m, \u001b[38;5;34m48\u001b[0m)  │         \u001b[38;5;34m48\u001b[0m │ conv2[\u001b[38;5;34m0\u001b[0m][\u001b[38;5;34m0\u001b[0m]       │\n",
       "├─────────────────────┼───────────────────┼────────────┼───────────────────┤\n",
       "│ maxpooling2         │ (\u001b[38;5;45mNone\u001b[0m, \u001b[38;5;34m4\u001b[0m, \u001b[38;5;34m4\u001b[0m, \u001b[38;5;34m48\u001b[0m)  │          \u001b[38;5;34m0\u001b[0m │ prelu2[\u001b[38;5;34m0\u001b[0m][\u001b[38;5;34m0\u001b[0m]      │\n",
       "│ (\u001b[38;5;33mMaxPooling2D\u001b[0m)      │                   │            │                   │\n",
       "├─────────────────────┼───────────────────┼────────────┼───────────────────┤\n",
       "│ conv3 (\u001b[38;5;33mConv2D\u001b[0m)      │ (\u001b[38;5;45mNone\u001b[0m, \u001b[38;5;34m3\u001b[0m, \u001b[38;5;34m3\u001b[0m, \u001b[38;5;34m64\u001b[0m)  │     \u001b[38;5;34m12,352\u001b[0m │ maxpooling2[\u001b[38;5;34m0\u001b[0m][\u001b[38;5;34m0\u001b[0m] │\n",
       "├─────────────────────┼───────────────────┼────────────┼───────────────────┤\n",
       "│ prelu3 (\u001b[38;5;33mPReLU\u001b[0m)      │ (\u001b[38;5;45mNone\u001b[0m, \u001b[38;5;34m3\u001b[0m, \u001b[38;5;34m3\u001b[0m, \u001b[38;5;34m64\u001b[0m)  │         \u001b[38;5;34m64\u001b[0m │ conv3[\u001b[38;5;34m0\u001b[0m][\u001b[38;5;34m0\u001b[0m]       │\n",
       "├─────────────────────┼───────────────────┼────────────┼───────────────────┤\n",
       "│ permute (\u001b[38;5;33mPermute\u001b[0m)   │ (\u001b[38;5;45mNone\u001b[0m, \u001b[38;5;34m3\u001b[0m, \u001b[38;5;34m3\u001b[0m, \u001b[38;5;34m64\u001b[0m)  │          \u001b[38;5;34m0\u001b[0m │ prelu3[\u001b[38;5;34m0\u001b[0m][\u001b[38;5;34m0\u001b[0m]      │\n",
       "├─────────────────────┼───────────────────┼────────────┼───────────────────┤\n",
       "│ flatten3 (\u001b[38;5;33mFlatten\u001b[0m)  │ (\u001b[38;5;45mNone\u001b[0m, \u001b[38;5;34m576\u001b[0m)       │          \u001b[38;5;34m0\u001b[0m │ permute[\u001b[38;5;34m0\u001b[0m][\u001b[38;5;34m0\u001b[0m]     │\n",
       "├─────────────────────┼───────────────────┼────────────┼───────────────────┤\n",
       "│ fc4 (\u001b[38;5;33mDense\u001b[0m)         │ (\u001b[38;5;45mNone\u001b[0m, \u001b[38;5;34m128\u001b[0m)       │     \u001b[38;5;34m73,856\u001b[0m │ flatten3[\u001b[38;5;34m0\u001b[0m][\u001b[38;5;34m0\u001b[0m]    │\n",
       "├─────────────────────┼───────────────────┼────────────┼───────────────────┤\n",
       "│ prelu4 (\u001b[38;5;33mPReLU\u001b[0m)      │ (\u001b[38;5;45mNone\u001b[0m, \u001b[38;5;34m128\u001b[0m)       │        \u001b[38;5;34m128\u001b[0m │ fc4[\u001b[38;5;34m0\u001b[0m][\u001b[38;5;34m0\u001b[0m]         │\n",
       "├─────────────────────┼───────────────────┼────────────┼───────────────────┤\n",
       "│ fc5-1 (\u001b[38;5;33mDense\u001b[0m)       │ (\u001b[38;5;45mNone\u001b[0m, \u001b[38;5;34m4\u001b[0m)         │        \u001b[38;5;34m516\u001b[0m │ prelu4[\u001b[38;5;34m0\u001b[0m][\u001b[38;5;34m0\u001b[0m]      │\n",
       "├─────────────────────┼───────────────────┼────────────┼───────────────────┤\n",
       "│ fc5-2 (\u001b[38;5;33mDense\u001b[0m)       │ (\u001b[38;5;45mNone\u001b[0m, \u001b[38;5;34m2\u001b[0m)         │        \u001b[38;5;34m258\u001b[0m │ prelu4[\u001b[38;5;34m0\u001b[0m][\u001b[38;5;34m0\u001b[0m]      │\n",
       "└─────────────────────┴───────────────────┴────────────┴───────────────────┘\n"
      ]
     },
     "metadata": {},
     "output_type": "display_data"
    },
    {
     "data": {
      "text/html": [
       "<pre style=\"white-space:pre;overflow-x:auto;line-height:normal;font-family:Menlo,'DejaVu Sans Mono',consolas,'Courier New',monospace\"><span style=\"font-weight: bold\"> Total params: </span><span style=\"color: #00af00; text-decoration-color: #00af00\">100,178</span> (391.32 KB)\n",
       "</pre>\n"
      ],
      "text/plain": [
       "\u001b[1m Total params: \u001b[0m\u001b[38;5;34m100,178\u001b[0m (391.32 KB)\n"
      ]
     },
     "metadata": {},
     "output_type": "display_data"
    },
    {
     "data": {
      "text/html": [
       "<pre style=\"white-space:pre;overflow-x:auto;line-height:normal;font-family:Menlo,'DejaVu Sans Mono',consolas,'Courier New',monospace\"><span style=\"font-weight: bold\"> Trainable params: </span><span style=\"color: #00af00; text-decoration-color: #00af00\">100,178</span> (391.32 KB)\n",
       "</pre>\n"
      ],
      "text/plain": [
       "\u001b[1m Trainable params: \u001b[0m\u001b[38;5;34m100,178\u001b[0m (391.32 KB)\n"
      ]
     },
     "metadata": {},
     "output_type": "display_data"
    },
    {
     "data": {
      "text/html": [
       "<pre style=\"white-space:pre;overflow-x:auto;line-height:normal;font-family:Menlo,'DejaVu Sans Mono',consolas,'Courier New',monospace\"><span style=\"font-weight: bold\"> Non-trainable params: </span><span style=\"color: #00af00; text-decoration-color: #00af00\">0</span> (0.00 B)\n",
       "</pre>\n"
      ],
      "text/plain": [
       "\u001b[1m Non-trainable params: \u001b[0m\u001b[38;5;34m0\u001b[0m (0.00 B)\n"
      ]
     },
     "metadata": {},
     "output_type": "display_data"
    }
   ],
   "source": [
    "inp = L.Input((24, 24, 3), name=\"input1\")\n",
    "\n",
    "layer = L.Conv2D(28, kernel_size=(3,3), strides=(1,1), padding=\"valid\", activation=\"linear\", name=\"conv1\")(inp)\n",
    "layer = L.PReLU(shared_axes=[1, 2], name=\"prelu1\")(layer)\n",
    "layer = L.MaxPooling2D(pool_size=(3,3), strides=(2,2), padding=\"same\", name=\"maxpooling1\")(layer)\n",
    "\n",
    "layer = L.Conv2D(48, kernel_size=(3,3), strides=(1,1), padding=\"valid\", activation=\"linear\", name=\"conv2\")(layer)\n",
    "layer = L.PReLU(shared_axes=[1, 2], name=\"prelu2\")(layer)\n",
    "layer = L.MaxPooling2D(pool_size=(3,3), strides=(2,2), padding=\"valid\", name=\"maxpooling2\")(layer)\n",
    "\n",
    "layer = L.Conv2D(64, kernel_size=(2,2), strides=(1,1), padding=\"valid\", activation=\"linear\", name=\"conv3\")(layer)\n",
    "layer = L.PReLU(shared_axes=[1, 2], name=\"prelu3\")(layer)\n",
    "layer = L.Permute((2, 1, 3), name=\"permute\")(layer)\n",
    "layer = L.Flatten(name=\"flatten3\")(layer)\n",
    "\n",
    "layer = L.Dense(128, activation=\"linear\", name=\"fc4\")(layer)\n",
    "layer_middle = L.PReLU(name=\"prelu4\")(layer)\n",
    "\n",
    "layer_out1 = L.Dense(4, activation=\"linear\", name=\"fc5-1\")(layer_middle)\n",
    "layer_out2 = L.Dense(2, activation=\"softmax\", name=\"fc5-2\")(layer_middle)\n",
    "\n",
    "rnet = M.Model(inp, [layer_out1, layer_out2])\n",
    "rnet.summary()"
   ]
  },
  {
   "cell_type": "markdown",
   "id": "755f4933-fdef-4cdf-b785-a175bc1d81e0",
   "metadata": {},
   "source": [
    "## ONet"
   ]
  },
  {
   "cell_type": "code",
   "execution_count": 29,
   "id": "ccf392c9-c729-4f65-8e5c-9a970fb8fceb",
   "metadata": {},
   "outputs": [
    {
     "data": {
      "text/html": [
       "<pre style=\"white-space:pre;overflow-x:auto;line-height:normal;font-family:Menlo,'DejaVu Sans Mono',consolas,'Courier New',monospace\"><span style=\"font-weight: bold\">Model: \"functional_4\"</span>\n",
       "</pre>\n"
      ],
      "text/plain": [
       "\u001b[1mModel: \"functional_4\"\u001b[0m\n"
      ]
     },
     "metadata": {},
     "output_type": "display_data"
    },
    {
     "data": {
      "text/html": [
       "<pre style=\"white-space:pre;overflow-x:auto;line-height:normal;font-family:Menlo,'DejaVu Sans Mono',consolas,'Courier New',monospace\">┏━━━━━━━━━━━━━━━━━━━━━┳━━━━━━━━━━━━━━━━━━━┳━━━━━━━━━━━━┳━━━━━━━━━━━━━━━━━━━┓\n",
       "┃<span style=\"font-weight: bold\"> Layer (type)        </span>┃<span style=\"font-weight: bold\"> Output Shape      </span>┃<span style=\"font-weight: bold\">    Param # </span>┃<span style=\"font-weight: bold\"> Connected to      </span>┃\n",
       "┡━━━━━━━━━━━━━━━━━━━━━╇━━━━━━━━━━━━━━━━━━━╇━━━━━━━━━━━━╇━━━━━━━━━━━━━━━━━━━┩\n",
       "│ input_layer_1       │ (<span style=\"color: #00d7ff; text-decoration-color: #00d7ff\">None</span>, <span style=\"color: #00af00; text-decoration-color: #00af00\">48</span>, <span style=\"color: #00af00; text-decoration-color: #00af00\">48</span>, <span style=\"color: #00af00; text-decoration-color: #00af00\">3</span>) │          <span style=\"color: #00af00; text-decoration-color: #00af00\">0</span> │ -                 │\n",
       "│ (<span style=\"color: #0087ff; text-decoration-color: #0087ff\">InputLayer</span>)        │                   │            │                   │\n",
       "├─────────────────────┼───────────────────┼────────────┼───────────────────┤\n",
       "│ conv1 (<span style=\"color: #0087ff; text-decoration-color: #0087ff\">Conv2D</span>)      │ (<span style=\"color: #00d7ff; text-decoration-color: #00d7ff\">None</span>, <span style=\"color: #00af00; text-decoration-color: #00af00\">46</span>, <span style=\"color: #00af00; text-decoration-color: #00af00\">46</span>,    │        <span style=\"color: #00af00; text-decoration-color: #00af00\">896</span> │ input_layer_1[<span style=\"color: #00af00; text-decoration-color: #00af00\">0</span>]… │\n",
       "│                     │ <span style=\"color: #00af00; text-decoration-color: #00af00\">32</span>)               │            │                   │\n",
       "├─────────────────────┼───────────────────┼────────────┼───────────────────┤\n",
       "│ prelu1 (<span style=\"color: #0087ff; text-decoration-color: #0087ff\">PReLU</span>)      │ (<span style=\"color: #00d7ff; text-decoration-color: #00d7ff\">None</span>, <span style=\"color: #00af00; text-decoration-color: #00af00\">46</span>, <span style=\"color: #00af00; text-decoration-color: #00af00\">46</span>,    │         <span style=\"color: #00af00; text-decoration-color: #00af00\">32</span> │ conv1[<span style=\"color: #00af00; text-decoration-color: #00af00\">0</span>][<span style=\"color: #00af00; text-decoration-color: #00af00\">0</span>]       │\n",
       "│                     │ <span style=\"color: #00af00; text-decoration-color: #00af00\">32</span>)               │            │                   │\n",
       "├─────────────────────┼───────────────────┼────────────┼───────────────────┤\n",
       "│ maxpooling1         │ (<span style=\"color: #00d7ff; text-decoration-color: #00d7ff\">None</span>, <span style=\"color: #00af00; text-decoration-color: #00af00\">23</span>, <span style=\"color: #00af00; text-decoration-color: #00af00\">23</span>,    │          <span style=\"color: #00af00; text-decoration-color: #00af00\">0</span> │ prelu1[<span style=\"color: #00af00; text-decoration-color: #00af00\">0</span>][<span style=\"color: #00af00; text-decoration-color: #00af00\">0</span>]      │\n",
       "│ (<span style=\"color: #0087ff; text-decoration-color: #0087ff\">MaxPooling2D</span>)      │ <span style=\"color: #00af00; text-decoration-color: #00af00\">32</span>)               │            │                   │\n",
       "├─────────────────────┼───────────────────┼────────────┼───────────────────┤\n",
       "│ conv2 (<span style=\"color: #0087ff; text-decoration-color: #0087ff\">Conv2D</span>)      │ (<span style=\"color: #00d7ff; text-decoration-color: #00d7ff\">None</span>, <span style=\"color: #00af00; text-decoration-color: #00af00\">21</span>, <span style=\"color: #00af00; text-decoration-color: #00af00\">21</span>,    │     <span style=\"color: #00af00; text-decoration-color: #00af00\">18,496</span> │ maxpooling1[<span style=\"color: #00af00; text-decoration-color: #00af00\">0</span>][<span style=\"color: #00af00; text-decoration-color: #00af00\">0</span>] │\n",
       "│                     │ <span style=\"color: #00af00; text-decoration-color: #00af00\">64</span>)               │            │                   │\n",
       "├─────────────────────┼───────────────────┼────────────┼───────────────────┤\n",
       "│ prelu2 (<span style=\"color: #0087ff; text-decoration-color: #0087ff\">PReLU</span>)      │ (<span style=\"color: #00d7ff; text-decoration-color: #00d7ff\">None</span>, <span style=\"color: #00af00; text-decoration-color: #00af00\">21</span>, <span style=\"color: #00af00; text-decoration-color: #00af00\">21</span>,    │         <span style=\"color: #00af00; text-decoration-color: #00af00\">64</span> │ conv2[<span style=\"color: #00af00; text-decoration-color: #00af00\">0</span>][<span style=\"color: #00af00; text-decoration-color: #00af00\">0</span>]       │\n",
       "│                     │ <span style=\"color: #00af00; text-decoration-color: #00af00\">64</span>)               │            │                   │\n",
       "├─────────────────────┼───────────────────┼────────────┼───────────────────┤\n",
       "│ maxpooling2         │ (<span style=\"color: #00d7ff; text-decoration-color: #00d7ff\">None</span>, <span style=\"color: #00af00; text-decoration-color: #00af00\">10</span>, <span style=\"color: #00af00; text-decoration-color: #00af00\">10</span>,    │          <span style=\"color: #00af00; text-decoration-color: #00af00\">0</span> │ prelu2[<span style=\"color: #00af00; text-decoration-color: #00af00\">0</span>][<span style=\"color: #00af00; text-decoration-color: #00af00\">0</span>]      │\n",
       "│ (<span style=\"color: #0087ff; text-decoration-color: #0087ff\">MaxPooling2D</span>)      │ <span style=\"color: #00af00; text-decoration-color: #00af00\">64</span>)               │            │                   │\n",
       "├─────────────────────┼───────────────────┼────────────┼───────────────────┤\n",
       "│ conv3 (<span style=\"color: #0087ff; text-decoration-color: #0087ff\">Conv2D</span>)      │ (<span style=\"color: #00d7ff; text-decoration-color: #00d7ff\">None</span>, <span style=\"color: #00af00; text-decoration-color: #00af00\">8</span>, <span style=\"color: #00af00; text-decoration-color: #00af00\">8</span>, <span style=\"color: #00af00; text-decoration-color: #00af00\">64</span>)  │     <span style=\"color: #00af00; text-decoration-color: #00af00\">36,928</span> │ maxpooling2[<span style=\"color: #00af00; text-decoration-color: #00af00\">0</span>][<span style=\"color: #00af00; text-decoration-color: #00af00\">0</span>] │\n",
       "├─────────────────────┼───────────────────┼────────────┼───────────────────┤\n",
       "│ prelu3 (<span style=\"color: #0087ff; text-decoration-color: #0087ff\">PReLU</span>)      │ (<span style=\"color: #00d7ff; text-decoration-color: #00d7ff\">None</span>, <span style=\"color: #00af00; text-decoration-color: #00af00\">8</span>, <span style=\"color: #00af00; text-decoration-color: #00af00\">8</span>, <span style=\"color: #00af00; text-decoration-color: #00af00\">64</span>)  │         <span style=\"color: #00af00; text-decoration-color: #00af00\">64</span> │ conv3[<span style=\"color: #00af00; text-decoration-color: #00af00\">0</span>][<span style=\"color: #00af00; text-decoration-color: #00af00\">0</span>]       │\n",
       "├─────────────────────┼───────────────────┼────────────┼───────────────────┤\n",
       "│ maxpooling3         │ (<span style=\"color: #00d7ff; text-decoration-color: #00d7ff\">None</span>, <span style=\"color: #00af00; text-decoration-color: #00af00\">4</span>, <span style=\"color: #00af00; text-decoration-color: #00af00\">4</span>, <span style=\"color: #00af00; text-decoration-color: #00af00\">64</span>)  │          <span style=\"color: #00af00; text-decoration-color: #00af00\">0</span> │ prelu3[<span style=\"color: #00af00; text-decoration-color: #00af00\">0</span>][<span style=\"color: #00af00; text-decoration-color: #00af00\">0</span>]      │\n",
       "│ (<span style=\"color: #0087ff; text-decoration-color: #0087ff\">MaxPooling2D</span>)      │                   │            │                   │\n",
       "├─────────────────────┼───────────────────┼────────────┼───────────────────┤\n",
       "│ conv4 (<span style=\"color: #0087ff; text-decoration-color: #0087ff\">Conv2D</span>)      │ (<span style=\"color: #00d7ff; text-decoration-color: #00d7ff\">None</span>, <span style=\"color: #00af00; text-decoration-color: #00af00\">3</span>, <span style=\"color: #00af00; text-decoration-color: #00af00\">3</span>, <span style=\"color: #00af00; text-decoration-color: #00af00\">128</span>) │     <span style=\"color: #00af00; text-decoration-color: #00af00\">32,896</span> │ maxpooling3[<span style=\"color: #00af00; text-decoration-color: #00af00\">0</span>][<span style=\"color: #00af00; text-decoration-color: #00af00\">0</span>] │\n",
       "├─────────────────────┼───────────────────┼────────────┼───────────────────┤\n",
       "│ prelu4 (<span style=\"color: #0087ff; text-decoration-color: #0087ff\">PReLU</span>)      │ (<span style=\"color: #00d7ff; text-decoration-color: #00d7ff\">None</span>, <span style=\"color: #00af00; text-decoration-color: #00af00\">3</span>, <span style=\"color: #00af00; text-decoration-color: #00af00\">3</span>, <span style=\"color: #00af00; text-decoration-color: #00af00\">128</span>) │        <span style=\"color: #00af00; text-decoration-color: #00af00\">128</span> │ conv4[<span style=\"color: #00af00; text-decoration-color: #00af00\">0</span>][<span style=\"color: #00af00; text-decoration-color: #00af00\">0</span>]       │\n",
       "├─────────────────────┼───────────────────┼────────────┼───────────────────┤\n",
       "│ permute (<span style=\"color: #0087ff; text-decoration-color: #0087ff\">Permute</span>)   │ (<span style=\"color: #00d7ff; text-decoration-color: #00d7ff\">None</span>, <span style=\"color: #00af00; text-decoration-color: #00af00\">3</span>, <span style=\"color: #00af00; text-decoration-color: #00af00\">3</span>, <span style=\"color: #00af00; text-decoration-color: #00af00\">128</span>) │          <span style=\"color: #00af00; text-decoration-color: #00af00\">0</span> │ prelu4[<span style=\"color: #00af00; text-decoration-color: #00af00\">0</span>][<span style=\"color: #00af00; text-decoration-color: #00af00\">0</span>]      │\n",
       "├─────────────────────┼───────────────────┼────────────┼───────────────────┤\n",
       "│ flatten4 (<span style=\"color: #0087ff; text-decoration-color: #0087ff\">Flatten</span>)  │ (<span style=\"color: #00d7ff; text-decoration-color: #00d7ff\">None</span>, <span style=\"color: #00af00; text-decoration-color: #00af00\">1152</span>)      │          <span style=\"color: #00af00; text-decoration-color: #00af00\">0</span> │ permute[<span style=\"color: #00af00; text-decoration-color: #00af00\">0</span>][<span style=\"color: #00af00; text-decoration-color: #00af00\">0</span>]     │\n",
       "├─────────────────────┼───────────────────┼────────────┼───────────────────┤\n",
       "│ fc5 (<span style=\"color: #0087ff; text-decoration-color: #0087ff\">Dense</span>)         │ (<span style=\"color: #00d7ff; text-decoration-color: #00d7ff\">None</span>, <span style=\"color: #00af00; text-decoration-color: #00af00\">256</span>)       │    <span style=\"color: #00af00; text-decoration-color: #00af00\">295,168</span> │ flatten4[<span style=\"color: #00af00; text-decoration-color: #00af00\">0</span>][<span style=\"color: #00af00; text-decoration-color: #00af00\">0</span>]    │\n",
       "├─────────────────────┼───────────────────┼────────────┼───────────────────┤\n",
       "│ prelu5 (<span style=\"color: #0087ff; text-decoration-color: #0087ff\">PReLU</span>)      │ (<span style=\"color: #00d7ff; text-decoration-color: #00d7ff\">None</span>, <span style=\"color: #00af00; text-decoration-color: #00af00\">256</span>)       │        <span style=\"color: #00af00; text-decoration-color: #00af00\">256</span> │ fc5[<span style=\"color: #00af00; text-decoration-color: #00af00\">0</span>][<span style=\"color: #00af00; text-decoration-color: #00af00\">0</span>]         │\n",
       "├─────────────────────┼───────────────────┼────────────┼───────────────────┤\n",
       "│ fc6-2 (<span style=\"color: #0087ff; text-decoration-color: #0087ff\">Dense</span>)       │ (<span style=\"color: #00d7ff; text-decoration-color: #00d7ff\">None</span>, <span style=\"color: #00af00; text-decoration-color: #00af00\">4</span>)         │      <span style=\"color: #00af00; text-decoration-color: #00af00\">1,028</span> │ prelu5[<span style=\"color: #00af00; text-decoration-color: #00af00\">0</span>][<span style=\"color: #00af00; text-decoration-color: #00af00\">0</span>]      │\n",
       "├─────────────────────┼───────────────────┼────────────┼───────────────────┤\n",
       "│ fc6-3 (<span style=\"color: #0087ff; text-decoration-color: #0087ff\">Dense</span>)       │ (<span style=\"color: #00d7ff; text-decoration-color: #00d7ff\">None</span>, <span style=\"color: #00af00; text-decoration-color: #00af00\">10</span>)        │      <span style=\"color: #00af00; text-decoration-color: #00af00\">2,570</span> │ prelu5[<span style=\"color: #00af00; text-decoration-color: #00af00\">0</span>][<span style=\"color: #00af00; text-decoration-color: #00af00\">0</span>]      │\n",
       "├─────────────────────┼───────────────────┼────────────┼───────────────────┤\n",
       "│ fc6-1 (<span style=\"color: #0087ff; text-decoration-color: #0087ff\">Dense</span>)       │ (<span style=\"color: #00d7ff; text-decoration-color: #00d7ff\">None</span>, <span style=\"color: #00af00; text-decoration-color: #00af00\">2</span>)         │        <span style=\"color: #00af00; text-decoration-color: #00af00\">514</span> │ prelu5[<span style=\"color: #00af00; text-decoration-color: #00af00\">0</span>][<span style=\"color: #00af00; text-decoration-color: #00af00\">0</span>]      │\n",
       "└─────────────────────┴───────────────────┴────────────┴───────────────────┘\n",
       "</pre>\n"
      ],
      "text/plain": [
       "┏━━━━━━━━━━━━━━━━━━━━━┳━━━━━━━━━━━━━━━━━━━┳━━━━━━━━━━━━┳━━━━━━━━━━━━━━━━━━━┓\n",
       "┃\u001b[1m \u001b[0m\u001b[1mLayer (type)       \u001b[0m\u001b[1m \u001b[0m┃\u001b[1m \u001b[0m\u001b[1mOutput Shape     \u001b[0m\u001b[1m \u001b[0m┃\u001b[1m \u001b[0m\u001b[1m   Param #\u001b[0m\u001b[1m \u001b[0m┃\u001b[1m \u001b[0m\u001b[1mConnected to     \u001b[0m\u001b[1m \u001b[0m┃\n",
       "┡━━━━━━━━━━━━━━━━━━━━━╇━━━━━━━━━━━━━━━━━━━╇━━━━━━━━━━━━╇━━━━━━━━━━━━━━━━━━━┩\n",
       "│ input_layer_1       │ (\u001b[38;5;45mNone\u001b[0m, \u001b[38;5;34m48\u001b[0m, \u001b[38;5;34m48\u001b[0m, \u001b[38;5;34m3\u001b[0m) │          \u001b[38;5;34m0\u001b[0m │ -                 │\n",
       "│ (\u001b[38;5;33mInputLayer\u001b[0m)        │                   │            │                   │\n",
       "├─────────────────────┼───────────────────┼────────────┼───────────────────┤\n",
       "│ conv1 (\u001b[38;5;33mConv2D\u001b[0m)      │ (\u001b[38;5;45mNone\u001b[0m, \u001b[38;5;34m46\u001b[0m, \u001b[38;5;34m46\u001b[0m,    │        \u001b[38;5;34m896\u001b[0m │ input_layer_1[\u001b[38;5;34m0\u001b[0m]… │\n",
       "│                     │ \u001b[38;5;34m32\u001b[0m)               │            │                   │\n",
       "├─────────────────────┼───────────────────┼────────────┼───────────────────┤\n",
       "│ prelu1 (\u001b[38;5;33mPReLU\u001b[0m)      │ (\u001b[38;5;45mNone\u001b[0m, \u001b[38;5;34m46\u001b[0m, \u001b[38;5;34m46\u001b[0m,    │         \u001b[38;5;34m32\u001b[0m │ conv1[\u001b[38;5;34m0\u001b[0m][\u001b[38;5;34m0\u001b[0m]       │\n",
       "│                     │ \u001b[38;5;34m32\u001b[0m)               │            │                   │\n",
       "├─────────────────────┼───────────────────┼────────────┼───────────────────┤\n",
       "│ maxpooling1         │ (\u001b[38;5;45mNone\u001b[0m, \u001b[38;5;34m23\u001b[0m, \u001b[38;5;34m23\u001b[0m,    │          \u001b[38;5;34m0\u001b[0m │ prelu1[\u001b[38;5;34m0\u001b[0m][\u001b[38;5;34m0\u001b[0m]      │\n",
       "│ (\u001b[38;5;33mMaxPooling2D\u001b[0m)      │ \u001b[38;5;34m32\u001b[0m)               │            │                   │\n",
       "├─────────────────────┼───────────────────┼────────────┼───────────────────┤\n",
       "│ conv2 (\u001b[38;5;33mConv2D\u001b[0m)      │ (\u001b[38;5;45mNone\u001b[0m, \u001b[38;5;34m21\u001b[0m, \u001b[38;5;34m21\u001b[0m,    │     \u001b[38;5;34m18,496\u001b[0m │ maxpooling1[\u001b[38;5;34m0\u001b[0m][\u001b[38;5;34m0\u001b[0m] │\n",
       "│                     │ \u001b[38;5;34m64\u001b[0m)               │            │                   │\n",
       "├─────────────────────┼───────────────────┼────────────┼───────────────────┤\n",
       "│ prelu2 (\u001b[38;5;33mPReLU\u001b[0m)      │ (\u001b[38;5;45mNone\u001b[0m, \u001b[38;5;34m21\u001b[0m, \u001b[38;5;34m21\u001b[0m,    │         \u001b[38;5;34m64\u001b[0m │ conv2[\u001b[38;5;34m0\u001b[0m][\u001b[38;5;34m0\u001b[0m]       │\n",
       "│                     │ \u001b[38;5;34m64\u001b[0m)               │            │                   │\n",
       "├─────────────────────┼───────────────────┼────────────┼───────────────────┤\n",
       "│ maxpooling2         │ (\u001b[38;5;45mNone\u001b[0m, \u001b[38;5;34m10\u001b[0m, \u001b[38;5;34m10\u001b[0m,    │          \u001b[38;5;34m0\u001b[0m │ prelu2[\u001b[38;5;34m0\u001b[0m][\u001b[38;5;34m0\u001b[0m]      │\n",
       "│ (\u001b[38;5;33mMaxPooling2D\u001b[0m)      │ \u001b[38;5;34m64\u001b[0m)               │            │                   │\n",
       "├─────────────────────┼───────────────────┼────────────┼───────────────────┤\n",
       "│ conv3 (\u001b[38;5;33mConv2D\u001b[0m)      │ (\u001b[38;5;45mNone\u001b[0m, \u001b[38;5;34m8\u001b[0m, \u001b[38;5;34m8\u001b[0m, \u001b[38;5;34m64\u001b[0m)  │     \u001b[38;5;34m36,928\u001b[0m │ maxpooling2[\u001b[38;5;34m0\u001b[0m][\u001b[38;5;34m0\u001b[0m] │\n",
       "├─────────────────────┼───────────────────┼────────────┼───────────────────┤\n",
       "│ prelu3 (\u001b[38;5;33mPReLU\u001b[0m)      │ (\u001b[38;5;45mNone\u001b[0m, \u001b[38;5;34m8\u001b[0m, \u001b[38;5;34m8\u001b[0m, \u001b[38;5;34m64\u001b[0m)  │         \u001b[38;5;34m64\u001b[0m │ conv3[\u001b[38;5;34m0\u001b[0m][\u001b[38;5;34m0\u001b[0m]       │\n",
       "├─────────────────────┼───────────────────┼────────────┼───────────────────┤\n",
       "│ maxpooling3         │ (\u001b[38;5;45mNone\u001b[0m, \u001b[38;5;34m4\u001b[0m, \u001b[38;5;34m4\u001b[0m, \u001b[38;5;34m64\u001b[0m)  │          \u001b[38;5;34m0\u001b[0m │ prelu3[\u001b[38;5;34m0\u001b[0m][\u001b[38;5;34m0\u001b[0m]      │\n",
       "│ (\u001b[38;5;33mMaxPooling2D\u001b[0m)      │                   │            │                   │\n",
       "├─────────────────────┼───────────────────┼────────────┼───────────────────┤\n",
       "│ conv4 (\u001b[38;5;33mConv2D\u001b[0m)      │ (\u001b[38;5;45mNone\u001b[0m, \u001b[38;5;34m3\u001b[0m, \u001b[38;5;34m3\u001b[0m, \u001b[38;5;34m128\u001b[0m) │     \u001b[38;5;34m32,896\u001b[0m │ maxpooling3[\u001b[38;5;34m0\u001b[0m][\u001b[38;5;34m0\u001b[0m] │\n",
       "├─────────────────────┼───────────────────┼────────────┼───────────────────┤\n",
       "│ prelu4 (\u001b[38;5;33mPReLU\u001b[0m)      │ (\u001b[38;5;45mNone\u001b[0m, \u001b[38;5;34m3\u001b[0m, \u001b[38;5;34m3\u001b[0m, \u001b[38;5;34m128\u001b[0m) │        \u001b[38;5;34m128\u001b[0m │ conv4[\u001b[38;5;34m0\u001b[0m][\u001b[38;5;34m0\u001b[0m]       │\n",
       "├─────────────────────┼───────────────────┼────────────┼───────────────────┤\n",
       "│ permute (\u001b[38;5;33mPermute\u001b[0m)   │ (\u001b[38;5;45mNone\u001b[0m, \u001b[38;5;34m3\u001b[0m, \u001b[38;5;34m3\u001b[0m, \u001b[38;5;34m128\u001b[0m) │          \u001b[38;5;34m0\u001b[0m │ prelu4[\u001b[38;5;34m0\u001b[0m][\u001b[38;5;34m0\u001b[0m]      │\n",
       "├─────────────────────┼───────────────────┼────────────┼───────────────────┤\n",
       "│ flatten4 (\u001b[38;5;33mFlatten\u001b[0m)  │ (\u001b[38;5;45mNone\u001b[0m, \u001b[38;5;34m1152\u001b[0m)      │          \u001b[38;5;34m0\u001b[0m │ permute[\u001b[38;5;34m0\u001b[0m][\u001b[38;5;34m0\u001b[0m]     │\n",
       "├─────────────────────┼───────────────────┼────────────┼───────────────────┤\n",
       "│ fc5 (\u001b[38;5;33mDense\u001b[0m)         │ (\u001b[38;5;45mNone\u001b[0m, \u001b[38;5;34m256\u001b[0m)       │    \u001b[38;5;34m295,168\u001b[0m │ flatten4[\u001b[38;5;34m0\u001b[0m][\u001b[38;5;34m0\u001b[0m]    │\n",
       "├─────────────────────┼───────────────────┼────────────┼───────────────────┤\n",
       "│ prelu5 (\u001b[38;5;33mPReLU\u001b[0m)      │ (\u001b[38;5;45mNone\u001b[0m, \u001b[38;5;34m256\u001b[0m)       │        \u001b[38;5;34m256\u001b[0m │ fc5[\u001b[38;5;34m0\u001b[0m][\u001b[38;5;34m0\u001b[0m]         │\n",
       "├─────────────────────┼───────────────────┼────────────┼───────────────────┤\n",
       "│ fc6-2 (\u001b[38;5;33mDense\u001b[0m)       │ (\u001b[38;5;45mNone\u001b[0m, \u001b[38;5;34m4\u001b[0m)         │      \u001b[38;5;34m1,028\u001b[0m │ prelu5[\u001b[38;5;34m0\u001b[0m][\u001b[38;5;34m0\u001b[0m]      │\n",
       "├─────────────────────┼───────────────────┼────────────┼───────────────────┤\n",
       "│ fc6-3 (\u001b[38;5;33mDense\u001b[0m)       │ (\u001b[38;5;45mNone\u001b[0m, \u001b[38;5;34m10\u001b[0m)        │      \u001b[38;5;34m2,570\u001b[0m │ prelu5[\u001b[38;5;34m0\u001b[0m][\u001b[38;5;34m0\u001b[0m]      │\n",
       "├─────────────────────┼───────────────────┼────────────┼───────────────────┤\n",
       "│ fc6-1 (\u001b[38;5;33mDense\u001b[0m)       │ (\u001b[38;5;45mNone\u001b[0m, \u001b[38;5;34m2\u001b[0m)         │        \u001b[38;5;34m514\u001b[0m │ prelu5[\u001b[38;5;34m0\u001b[0m][\u001b[38;5;34m0\u001b[0m]      │\n",
       "└─────────────────────┴───────────────────┴────────────┴───────────────────┘\n"
      ]
     },
     "metadata": {},
     "output_type": "display_data"
    },
    {
     "data": {
      "text/html": [
       "<pre style=\"white-space:pre;overflow-x:auto;line-height:normal;font-family:Menlo,'DejaVu Sans Mono',consolas,'Courier New',monospace\"><span style=\"font-weight: bold\"> Total params: </span><span style=\"color: #00af00; text-decoration-color: #00af00\">389,040</span> (1.48 MB)\n",
       "</pre>\n"
      ],
      "text/plain": [
       "\u001b[1m Total params: \u001b[0m\u001b[38;5;34m389,040\u001b[0m (1.48 MB)\n"
      ]
     },
     "metadata": {},
     "output_type": "display_data"
    },
    {
     "data": {
      "text/html": [
       "<pre style=\"white-space:pre;overflow-x:auto;line-height:normal;font-family:Menlo,'DejaVu Sans Mono',consolas,'Courier New',monospace\"><span style=\"font-weight: bold\"> Trainable params: </span><span style=\"color: #00af00; text-decoration-color: #00af00\">389,040</span> (1.48 MB)\n",
       "</pre>\n"
      ],
      "text/plain": [
       "\u001b[1m Trainable params: \u001b[0m\u001b[38;5;34m389,040\u001b[0m (1.48 MB)\n"
      ]
     },
     "metadata": {},
     "output_type": "display_data"
    },
    {
     "data": {
      "text/html": [
       "<pre style=\"white-space:pre;overflow-x:auto;line-height:normal;font-family:Menlo,'DejaVu Sans Mono',consolas,'Courier New',monospace\"><span style=\"font-weight: bold\"> Non-trainable params: </span><span style=\"color: #00af00; text-decoration-color: #00af00\">0</span> (0.00 B)\n",
       "</pre>\n"
      ],
      "text/plain": [
       "\u001b[1m Non-trainable params: \u001b[0m\u001b[38;5;34m0\u001b[0m (0.00 B)\n"
      ]
     },
     "metadata": {},
     "output_type": "display_data"
    }
   ],
   "source": [
    "inp = L.Input((48, 48, 3))\n",
    "\n",
    "layer = L.Conv2D(32, kernel_size=(3,3), strides=(1,1), padding=\"valid\", activation=\"linear\", name=\"conv1\")(inp)\n",
    "layer = L.PReLU(shared_axes=[1, 2], name=\"prelu1\")(layer)\n",
    "layer = L.MaxPooling2D(pool_size=(3,3), strides=(2,2), padding=\"same\", name=\"maxpooling1\")(layer)\n",
    "\n",
    "layer = L.Conv2D(64, kernel_size=(3,3), strides=(1,1), padding=\"valid\", activation=\"linear\", name=\"conv2\")(layer)\n",
    "layer = L.PReLU(shared_axes=[1, 2], name=\"prelu2\")(layer)\n",
    "layer = L.MaxPooling2D(pool_size=(3,3), strides=(2,2), padding=\"valid\", name=\"maxpooling2\")(layer)\n",
    "\n",
    "layer = L.Conv2D(64, kernel_size=(3,3), strides=(1,1), padding=\"valid\", activation=\"linear\", name=\"conv3\")(layer)\n",
    "layer = L.PReLU(shared_axes=[1, 2], name=\"prelu3\")(layer)\n",
    "layer = L.MaxPooling2D(pool_size=(2,2), strides=(2,2), padding=\"same\", name=\"maxpooling3\")(layer)\n",
    "\n",
    "layer = L.Conv2D(128, kernel_size=(2,2), strides=(1,1), padding=\"valid\", activation=\"linear\", name=\"conv4\")(layer)\n",
    "layer = L.PReLU(shared_axes=[1, 2], name=\"prelu4\")(layer)\n",
    "layer = L.Permute((2, 1, 3), name=\"permute\")(layer)\n",
    "layer = L.Flatten(name=\"flatten4\")(layer)\n",
    "#layer = L.Lambda(lambda x: tf.reshape(x, (-1, tf.math.cumprod(tf.shape(x[0]))[-1])), name=\"flatten4\")(layer)\n",
    "\n",
    "layer = L.Dense(256, activation=\"linear\", name=\"fc5\")(layer)\n",
    "layer_middle = L.PReLU(name=\"prelu5\")(layer)\n",
    "\n",
    "layer_out1 = L.Dense(4, activation=\"linear\", name=\"fc6-2\")(layer_middle)\n",
    "layer_out2 = L.Dense(10, activation=\"linear\", name=\"fc6-3\")(layer_middle)\n",
    "layer_out3 = L.Dense(2, activation=\"softmax\", name=\"fc6-1\")(layer_middle)\n",
    "\n",
    "onet = M.Model(inp, [layer_out1, layer_out2, layer_out3])\n",
    "onet.summary()"
   ]
  },
  {
   "cell_type": "markdown",
   "id": "ad3c79cb-be55-4836-8dcb-1d04256cc864",
   "metadata": {},
   "source": [
    "## Weights adaptation"
   ]
  },
  {
   "cell_type": "code",
   "execution_count": 30,
   "id": "26c4d834-0ea4-49f2-b3b7-4dab90b8c2f1",
   "metadata": {},
   "outputs": [],
   "source": [
    "import numpy as np"
   ]
  },
  {
   "cell_type": "code",
   "execution_count": 31,
   "id": "13002ae7-7ecd-4406-ab5e-a5003f75c329",
   "metadata": {},
   "outputs": [],
   "source": [
    "weights = np.load(\"mtcnn_weights.npy\", allow_pickle=True)[True][0]"
   ]
  },
  {
   "cell_type": "code",
   "execution_count": 32,
   "id": "1c67258d-dab9-400a-b150-b702f14ab645",
   "metadata": {},
   "outputs": [],
   "source": [
    "def offload_weights(weights_dict, order=None, broadcast_shapes=None):\n",
    "    result = []\n",
    "    if order is None:\n",
    "        order = list(weights_dict.keys())\n",
    "\n",
    "    if broadcast_shapes is None:\n",
    "        broadcast_shapes = []\n",
    "    \n",
    "    for k in order:\n",
    "        v = weights_dict[k]\n",
    "        \n",
    "        for sub_k, sub_v in v.items():\n",
    "            result.append(sub_v)\n",
    "\n",
    "    for i, shape in enumerate(broadcast_shapes):\n",
    "        result[i] = np.broadcast_to(result[i], shape)\n",
    "        \n",
    "    return result"
   ]
  },
  {
   "cell_type": "code",
   "execution_count": 35,
   "id": "482fde5d-4f69-4534-a041-376d272981ec",
   "metadata": {},
   "outputs": [],
   "source": [
    "pnet_weights = offload_weights(weights['PNet'], \n",
    "                               order=[\"conv1\", \"prelu1\", \"conv2\", \"prelu2\", \"conv3\", \"prelu3\", \"conv4-2\", \"conv4-1\"],\n",
    "                               broadcast_shapes=[w.shape for w in pnet.get_weights()])"
   ]
  },
  {
   "cell_type": "code",
   "execution_count": 36,
   "id": "f19ffcd3-3942-436b-b3f2-494c9eaf4e9a",
   "metadata": {},
   "outputs": [],
   "source": [
    "rnet_weights = offload_weights(weights['RNet'], \n",
    "                               order=[\"conv1\", \"prelu1\", \"conv2\", \"prelu2\", \"conv3\", \"prelu3\", \"fc1\", \"prelu4\", \"fc2-2\", \"fc2-1\"],\n",
    "                               broadcast_shapes=[w.shape for w in rnet.get_weights()])\n"
   ]
  },
  {
   "cell_type": "code",
   "execution_count": 37,
   "id": "f4d6ea00-cb2f-4643-8769-75775bae8099",
   "metadata": {},
   "outputs": [],
   "source": [
    "onet_weights = offload_weights(weights['ONet'], \n",
    "                               order=[\"conv1\", \"prelu1\", \"conv2\", \"prelu2\", \"conv3\", \"prelu3\", \"conv4\", \"prelu4\", \"fc1\", \"prelu5\", \"fc2-2\", \"fc2-3\", \"fc2-1\"],\n",
    "                               broadcast_shapes=[w.shape for w in onet.get_weights()])"
   ]
  },
  {
   "cell_type": "code",
   "execution_count": 38,
   "id": "2429b796-0128-4416-a8e6-9ad28b4dc3ad",
   "metadata": {},
   "outputs": [
    {
     "name": "stdout",
     "output_type": "stream",
     "text": [
      "input1  -  []\n",
      "conv1  -  [(3, 3, 3, 10), (10,)]\n",
      "prelu1  -  [(1, 1, 10)]\n",
      "maxpooling1  -  []\n",
      "conv2  -  [(3, 3, 10, 16), (16,)]\n",
      "prelu2  -  [(1, 1, 16)]\n",
      "conv3  -  [(3, 3, 16, 32), (32,)]\n",
      "prelu3  -  [(1, 1, 32)]\n",
      "conv4-1  -  [(1, 1, 32, 4), (4,)]\n",
      "conv4-2  -  [(1, 1, 32, 2), (2,)]\n"
     ]
    }
   ],
   "source": [
    "for l in pnet.layers:\n",
    "    w = l.get_weights()\n",
    "    if type(w) is list:\n",
    "        print(l.name, \" - \", [lw.shape for lw in w])\n",
    "    else:\n",
    "        print(l.name, \" - \", w.shape)"
   ]
  },
  {
   "cell_type": "code",
   "execution_count": 39,
   "id": "bffe129f-deaa-40eb-8605-4a0389c81a0b",
   "metadata": {},
   "outputs": [],
   "source": [
    "pnet.set_weights(pnet_weights)\n",
    "rnet.set_weights(rnet_weights)\n",
    "onet.set_weights(onet_weights)"
   ]
  },
  {
   "cell_type": "markdown",
   "id": "9477279e-b77e-432a-add0-3e0b2542eabd",
   "metadata": {},
   "source": [
    "## Permuting filter's weights\n",
    "Weights of the filters were permuted by an author mistake during the training stage. This forces the author to transpose width and height dimensions every time he needs to process an image.\n",
    "\n",
    "We can easily fix this issue by permuting each conv weights, so the need for permutations during inference is not required, resulting in a speedup of the process. Also, the code becomes more readable."
   ]
  },
  {
   "cell_type": "markdown",
   "id": "7fd1bcf4-36c8-4ec4-86e2-908b24a48abf",
   "metadata": {},
   "source": [
    "### PNET PERMUTATION"
   ]
  },
  {
   "cell_type": "code",
   "execution_count": 40,
   "id": "78224692-3c57-49da-8659-dce1e0733e8c",
   "metadata": {},
   "outputs": [],
   "source": [
    "def permute_weights(net):\n",
    "    for layer in net.layers:\n",
    "        if 'conv' in layer.name and isinstance(layer, L.Conv2D):\n",
    "            _weights = layer.get_weights()\n",
    "    \n",
    "            if len(_weights) > 0:\n",
    "                kernel_weights = _weights[0]  # [kernel_height, kernel_width, in_channels, out_channels]\n",
    "                kernel_weights_inverted = np.transpose(kernel_weights, (1, 0, 2, 3))  # Intercambia altura y ancho\n",
    "                layer.set_weights([kernel_weights_inverted, _weights[1] if len(_weights) > 1 else None])"
   ]
  },
  {
   "cell_type": "code",
   "execution_count": 41,
   "id": "0df019cd-d45a-4369-992f-3f62e490d444",
   "metadata": {},
   "outputs": [],
   "source": [
    "permute_weights(pnet)\n",
    "permute_weights(rnet)\n",
    "permute_weights(onet)"
   ]
  },
  {
   "cell_type": "code",
   "execution_count": 31,
   "id": "f7a9d303-61d3-4d4c-a9e3-c5f77dbb1645",
   "metadata": {},
   "outputs": [
    {
     "data": {
      "text/plain": [
       "\"for layer in pnet.layers:\\n    if 'conv' in layer.name and isinstance(layer, L.Conv2D):\\n        _weights = layer.get_weights()\\n\\n        if len(_weights) > 0:\\n            kernel_weights = _weights[0]  # [kernel_height, kernel_width, in_channels, out_channels]\\n            kernel_weights_inverted = np.transpose(kernel_weights, (1, 0, 2, 3))  # Intercambia altura y ancho\\n            layer.set_weights([kernel_weights_inverted, _weights[1] if len(_weights) > 1 else None])\\n\""
      ]
     },
     "execution_count": 31,
     "metadata": {},
     "output_type": "execute_result"
    }
   ],
   "source": [
    "\"\"\"for layer in pnet.layers:\n",
    "    if 'conv' in layer.name and isinstance(layer, L.Conv2D):\n",
    "        _weights = layer.get_weights()\n",
    "\n",
    "        if len(_weights) > 0:\n",
    "            kernel_weights = _weights[0]  # [kernel_height, kernel_width, in_channels, out_channels]\n",
    "            kernel_weights_inverted = np.transpose(kernel_weights, (1, 0, 2, 3))  # Intercambia altura y ancho\n",
    "            layer.set_weights([kernel_weights_inverted, _weights[1] if len(_weights) > 1 else None])\n",
    "\"\"\"            "
   ]
  },
  {
   "cell_type": "markdown",
   "id": "fbf96535-4055-417b-9ec1-c8ca980eab56",
   "metadata": {},
   "source": [
    "## Weights storage"
   ]
  },
  {
   "cell_type": "code",
   "execution_count": 42,
   "id": "a84fb8a4-a942-46af-8fed-d425fcee5f94",
   "metadata": {},
   "outputs": [],
   "source": [
    "import joblib"
   ]
  },
  {
   "cell_type": "code",
   "execution_count": 43,
   "id": "7d04314d-718c-4170-ba86-553cbc4a7a8a",
   "metadata": {},
   "outputs": [
    {
     "data": {
      "text/plain": [
       "['mtcnn/assets/weights/onet.lz4']"
      ]
     },
     "execution_count": 43,
     "metadata": {},
     "output_type": "execute_result"
    }
   ],
   "source": [
    "joblib.dump(pnet.get_weights(), 'mtcnn/assets/weights/pnet.lz4', compress=(\"lz4\", 1))\n",
    "joblib.dump(rnet.get_weights(), 'mtcnn/assets/weights/rnet.lz4', compress=(\"lz4\", 1))\n",
    "joblib.dump(onet.get_weights(), 'mtcnn/assets/weights/onet.lz4', compress=(\"lz4\", 1))"
   ]
  },
  {
   "cell_type": "code",
   "execution_count": 17,
   "id": "87da3806-3e5d-4ad7-829a-cbedf0315805",
   "metadata": {},
   "outputs": [
    {
     "data": {
      "text/plain": [
       "['mtcnn_weights.jbl']"
      ]
     },
     "execution_count": 17,
     "metadata": {},
     "output_type": "execute_result"
    }
   ],
   "source": [
    "joblib.dump({'pnet': pnet.get_weights(), 'rnet': rnet.get_weights(), 'onet': onet.get_weights()}, \"mtcnn_weights.jbl\", compress=(\"lz4\", 1))"
   ]
  },
  {
   "cell_type": "markdown",
   "id": "48f990c9-f4c2-4332-b1e7-d49cfcd2bbb4",
   "metadata": {},
   "source": [
    "# DEBUG"
   ]
  },
  {
   "cell_type": "markdown",
   "id": "b0abc2b7-37d6-46b0-a5d8-a1708627168c",
   "metadata": {},
   "source": [
    "## IMAGE GENERATION"
   ]
  },
  {
   "cell_type": "code",
   "execution_count": 18,
   "id": "15f11ff4-c0a8-49f3-9e83-77262e7e94ea",
   "metadata": {},
   "outputs": [],
   "source": [
    "import cv2"
   ]
  },
  {
   "cell_type": "code",
   "execution_count": 19,
   "id": "0a1b0437-0128-42c6-91aa-7d3b15354398",
   "metadata": {},
   "outputs": [],
   "source": [
    "target_filenames = [\"0038_02.jpg\", \"ivan.jpg\"]"
   ]
  },
  {
   "cell_type": "code",
   "execution_count": 20,
   "id": "6ae2696f-4f77-4372-8054-33e7b57559b1",
   "metadata": {},
   "outputs": [],
   "source": [
    "import matplotlib.pyplot as plt"
   ]
  },
  {
   "cell_type": "code",
   "execution_count": 21,
   "id": "911990e0-5fce-4d09-9e00-a3d5b1e1a981",
   "metadata": {},
   "outputs": [
    {
     "name": "stdout",
     "output_type": "stream",
     "text": [
      "CPU times: user 4.7 ms, sys: 65 μs, total: 4.77 ms\n",
      "Wall time: 3.76 ms\n"
     ]
    }
   ],
   "source": [
    "%%time\n",
    "images = [cv2.imread(filename)[:,:,::-1] for filename in target_filenames]"
   ]
  },
  {
   "cell_type": "code",
   "execution_count": 22,
   "id": "b18683c0-fde7-4641-97ff-cb4b4a8f8f55",
   "metadata": {},
   "outputs": [],
   "source": [
    "min_face_size = 20\n",
    "steps_threshold = [0.6, 0.7, 0.7]\n",
    "scale_factor = 0.709"
   ]
  },
  {
   "cell_type": "code",
   "execution_count": 23,
   "id": "689ec89e-9ec7-4171-bf35-c9d125b76c1c",
   "metadata": {},
   "outputs": [],
   "source": [
    "height = 1000\n",
    "width = 2000"
   ]
  },
  {
   "cell_type": "code",
   "execution_count": 24,
   "id": "31fe7fbe-583f-4204-b3b7-ab6b06cd550a",
   "metadata": {},
   "outputs": [],
   "source": [
    "img = images[0]\n",
    "imgs = images"
   ]
  },
  {
   "cell_type": "code",
   "execution_count": 25,
   "id": "a116c8f8-dbad-4685-87e2-5057e46f50b6",
   "metadata": {},
   "outputs": [],
   "source": [
    "def build_scale_pyramid(width, height, min_face_size, scale_factor, min_size=12):\n",
    "    min_dim = min(width, height)\n",
    "    scales_count = round(-((np.log(min_dim / min_size) / np.log(scale_factor)) + 1))\n",
    "    m = min_size / min_face_size\n",
    "    \n",
    "    return m * scale_factor ** np.arange(scales_count)"
   ]
  },
  {
   "cell_type": "code",
   "execution_count": 26,
   "id": "f505c167-8710-436e-98ab-d01414e7dcfa",
   "metadata": {},
   "outputs": [],
   "source": [
    "import cv2\n",
    "\n",
    "def scale_images(images, scale: float):\n",
    "    height, width = images.shape[-3:-1]\n",
    "    width_scaled = int(np.ceil(width * scale))\n",
    "    height_scaled = int(np.ceil(height * scale))\n",
    "\n",
    "    images_scaled = tf.image.resize(images, (height_scaled, width_scaled), method=tf.image.ResizeMethod.AREA)\n",
    "    \n",
    "    return images_scaled\n",
    "\n",
    "def normalize_images(images):\n",
    "    return (images - 127.5) * 0.0078125"
   ]
  },
  {
   "cell_type": "code",
   "execution_count": 27,
   "id": "2b2df260-937d-4b96-a987-cc5707ffd6ac",
   "metadata": {},
   "outputs": [],
   "source": [
    "def process(images, pipeline):\n",
    "    result = images\n",
    "    \n",
    "    for pipe in pipeline:\n",
    "        result = pipe['function'](result, **pipe.get('kwargs',{}))\n",
    "        \n",
    "    return result"
   ]
  },
  {
   "cell_type": "code",
   "execution_count": 28,
   "id": "9b6355f5-b3e1-4af1-8adc-8844d7d8b2c0",
   "metadata": {},
   "outputs": [],
   "source": [
    "def transpose_coords(images):\n",
    "    shape = images.shape\n",
    "    axes_order = np.arange(len(shape))\n",
    "    axes_order[-2] = len(shape)-3\n",
    "    axes_order[-3] = len(shape)-2\n",
    "    \n",
    "    return np.transpose(images, axes_order)"
   ]
  },
  {
   "cell_type": "code",
   "execution_count": null,
   "id": "78367610-850e-435e-9e63-4e34a0cc5c25",
   "metadata": {},
   "outputs": [],
   "source": []
  },
  {
   "cell_type": "code",
   "execution_count": 29,
   "id": "2b9890eb-66db-4ece-a2b0-9b68e8bf53f0",
   "metadata": {},
   "outputs": [],
   "source": [
    "scales = [build_scale_pyramid(img.shape[1], img.shape[0], min_face_size, scale_factor) for img in imgs]"
   ]
  },
  {
   "cell_type": "code",
   "execution_count": 30,
   "id": "ccdeb160-fe3d-401d-b0cb-2ee1aaf46b7c",
   "metadata": {},
   "outputs": [],
   "source": [
    "def pad_stack(images, justification=\"center\"):\n",
    "    sizes_stack = np.stack([img.shape for img in images], axis=0)\n",
    "    sizes_max = sizes_stack.max(axis=0, keepdims=True)\n",
    "    sizes_diff = sizes_max - sizes_stack\n",
    "    sizes_mod = sizes_diff % 2\n",
    "    sizes_diff = sizes_diff - sizes_mod\n",
    "    \n",
    "    justification_mask = {\n",
    "        \"top\": np.asarray([[[0, 1], [0.5, 0.5], [0, 0]]]),\n",
    "        \"topleft\": np.asarray([[[0, 1], [0, 1], [0, 0]]]),\n",
    "        \"topright\": np.asarray([[[0, 1], [1, 0], [0, 0]]]),\n",
    "        \n",
    "        \"bottom\": np.asarray([[[1, 0], [0.5, 0.5], [0, 0]]]),\n",
    "        \"bottomleft\": np.asarray([[[1, 0], [0, 1], [0, 0]]]),\n",
    "        \"bottomright\": np.asarray([[[1, 0], [1, 0], [0, 0]]]),\n",
    "        \n",
    "        \"left\": np.asarray([[[0.5, 0.5], [0, 1], [0, 0]]]),\n",
    "        \"right\": np.asarray([[[0.5, 0.5], [1, 0], [0, 0]]]),\n",
    "        \n",
    "        \"center\": np.asarray([[[0.5, 0.5], [0.5, 0.5], [0, 0]]]),\n",
    "    }\n",
    "    \n",
    "    justification_pad_mask = {\n",
    "        \"top\": \"topleft\",\n",
    "        \"bottom\": \"bottomleft\",\n",
    "        \"left\": \"topleft\",\n",
    "        \"right\": \"topright\",\n",
    "        \"center\": \"topleft\"\n",
    "    }\n",
    "    \n",
    "    pad_mask = justification_mask[justification]\n",
    "    mod_mask = justification_mask[justification_pad_mask.get(justification, justification)]\n",
    "    \n",
    "    pad_param = (pad_mask * sizes_diff[:,:,None] + mod_mask * sizes_mod[:,:,None]).astype(int)\n",
    "\n",
    "    images_padded = np.stack([np.pad(img, pad) for img, pad in zip(images, pad_param)], axis=0)\n",
    "    return images_padded\n",
    "\n",
    "def ensure_stack(images):\n",
    "    if isinstance(images, list):\n",
    "        images = pad_stack(images)\n",
    "    \n",
    "    return np.broadcast_to(images, [(len(images.shape)<4) + (len(images.shape)>=4) * images.shape[0],] + list(images.shape[len(images.shape)>=4:]))"
   ]
  },
  {
   "cell_type": "code",
   "execution_count": 31,
   "id": "68c26b34-5a1c-4d94-b708-ba3dae0fd07f",
   "metadata": {},
   "outputs": [],
   "source": [
    "pipeline = [\n",
    "    {'function': scale_images, 'kwargs': {\"scale\":0.7}},\n",
    "    {'function': normalize_images, 'kwargs': {}},\n",
    "    #{'function': transpose_coords, 'kwargs': {}}\n",
    "]\n",
    "images_scaled = process(ensure_stack(img), pipeline)"
   ]
  },
  {
   "cell_type": "code",
   "execution_count": 32,
   "id": "61c3c202-7e0b-4c20-8f43-d62e8d8d63cb",
   "metadata": {},
   "outputs": [
    {
     "name": "stderr",
     "output_type": "stream",
     "text": [
      "Clipping input data to the valid range for imshow with RGB data ([0..1] for floats or [0..255] for integers). Got range [-0.99609375..0.99610126].\n"
     ]
    },
    {
     "data": {
      "text/plain": [
       "<matplotlib.image.AxesImage at 0x7fbb1c7d5450>"
      ]
     },
     "execution_count": 32,
     "metadata": {},
     "output_type": "execute_result"
    },
    {
     "data": {
      "image/png": "[encoded data removed]",
      "text/plain": [
       "<Figure size 640x480 with 1 Axes>"
      ]
     },
     "metadata": {},
     "output_type": "display_data"
    }
   ],
   "source": [
    "plt.imshow(images_scaled[0])"
   ]
  },
  {
   "cell_type": "code",
   "execution_count": 33,
   "id": "c68ccea3-7910-4637-9963-db91dfde036e",
   "metadata": {},
   "outputs": [
    {
     "data": {
      "text/plain": [
       "[array([0.6       , 0.4254    , 0.3016086 , 0.2138405 , 0.15161291,\n",
       "        0.10749356, 0.07621293, 0.05403497]),\n",
       " array([0.6       , 0.4254    , 0.3016086 , 0.2138405 , 0.15161291,\n",
       "        0.10749356, 0.07621293, 0.05403497, 0.03831079, 0.02716235])]"
      ]
     },
     "execution_count": 33,
     "metadata": {},
     "output_type": "execute_result"
    }
   ],
   "source": [
    "scales"
   ]
  },
  {
   "cell_type": "markdown",
   "id": "5232fe8b-b4e9-49e0-ba0c-74eaa033952a",
   "metadata": {},
   "source": [
    "## PNET prediction"
   ]
  },
  {
   "cell_type": "code",
   "execution_count": 34,
   "id": "1c3405b4-9ca3-4751-9a3d-abacc6841c31",
   "metadata": {},
   "outputs": [],
   "source": [
    "# 1. We take the input images and we pad to the biggest\n"
   ]
  },
  {
   "cell_type": "code",
   "execution_count": 35,
   "id": "05c6d1cf-d4da-4944-acd6-c15ec8de2fd4",
   "metadata": {},
   "outputs": [
    {
     "name": "stderr",
     "output_type": "stream",
     "text": [
      "2024-09-18 00:34:37.815087: I external/local_xla/xla/stream_executor/cuda/cuda_dnn.cc:531] Loaded cuDNN version 8907\n",
      "WARNING: All log messages before absl::InitializeLog() is called are written to STDERR\n",
      "W0000 00:00:1726619677.867218  192913 gpu_timer.cc:114] Skipping the delay kernel, measurement accuracy will be reduced\n",
      "W0000 00:00:1726619677.884526  192913 gpu_timer.cc:114] Skipping the delay kernel, measurement accuracy will be reduced\n",
      "W0000 00:00:1726619677.885060  192913 gpu_timer.cc:114] Skipping the delay kernel, measurement accuracy will be reduced\n",
      "W0000 00:00:1726619677.904728  192913 gpu_timer.cc:114] Skipping the delay kernel, measurement accuracy will be reduced\n",
      "W0000 00:00:1726619677.906098  192913 gpu_timer.cc:114] Skipping the delay kernel, measurement accuracy will be reduced\n",
      "W0000 00:00:1726619677.907354  192913 gpu_timer.cc:114] Skipping the delay kernel, measurement accuracy will be reduced\n",
      "W0000 00:00:1726619677.907732  192913 gpu_timer.cc:114] Skipping the delay kernel, measurement accuracy will be reduced\n",
      "W0000 00:00:1726619677.908106  192913 gpu_timer.cc:114] Skipping the delay kernel, measurement accuracy will be reduced\n",
      "W0000 00:00:1726619678.038725  192913 gpu_timer.cc:114] Skipping the delay kernel, measurement accuracy will be reduced\n",
      "W0000 00:00:1726619678.039888  192913 gpu_timer.cc:114] Skipping the delay kernel, measurement accuracy will be reduced\n",
      "W0000 00:00:1726619678.041025  192913 gpu_timer.cc:114] Skipping the delay kernel, measurement accuracy will be reduced\n",
      "W0000 00:00:1726619678.041426  192913 gpu_timer.cc:114] Skipping the delay kernel, measurement accuracy will be reduced\n",
      "W0000 00:00:1726619678.041777  192913 gpu_timer.cc:114] Skipping the delay kernel, measurement accuracy will be reduced\n",
      "W0000 00:00:1726619678.042254  192913 gpu_timer.cc:114] Skipping the delay kernel, measurement accuracy will be reduced\n",
      "W0000 00:00:1726619678.043487  192913 gpu_timer.cc:114] Skipping the delay kernel, measurement accuracy will be reduced\n",
      "W0000 00:00:1726619678.044681  192913 gpu_timer.cc:114] Skipping the delay kernel, measurement accuracy will be reduced\n",
      "W0000 00:00:1726619678.045027  192913 gpu_timer.cc:114] Skipping the delay kernel, measurement accuracy will be reduced\n",
      "W0000 00:00:1726619678.066168  192913 gpu_timer.cc:114] Skipping the delay kernel, measurement accuracy will be reduced\n",
      "W0000 00:00:1726619678.067275  192913 gpu_timer.cc:114] Skipping the delay kernel, measurement accuracy will be reduced\n",
      "W0000 00:00:1726619678.067624  192913 gpu_timer.cc:114] Skipping the delay kernel, measurement accuracy will be reduced\n",
      "W0000 00:00:1726619678.068203  192913 gpu_timer.cc:114] Skipping the delay kernel, measurement accuracy will be reduced\n",
      "W0000 00:00:1726619678.069321  192913 gpu_timer.cc:114] Skipping the delay kernel, measurement accuracy will be reduced\n",
      "W0000 00:00:1726619678.069721  192913 gpu_timer.cc:114] Skipping the delay kernel, measurement accuracy will be reduced\n",
      "W0000 00:00:1726619678.070942  192913 gpu_timer.cc:114] Skipping the delay kernel, measurement accuracy will be reduced\n",
      "W0000 00:00:1726619678.071324  192913 gpu_timer.cc:114] Skipping the delay kernel, measurement accuracy will be reduced\n",
      "W0000 00:00:1726619678.072437  192913 gpu_timer.cc:114] Skipping the delay kernel, measurement accuracy will be reduced\n",
      "W0000 00:00:1726619678.096298  192913 gpu_timer.cc:114] Skipping the delay kernel, measurement accuracy will be reduced\n",
      "W0000 00:00:1726619678.096748  192913 gpu_timer.cc:114] Skipping the delay kernel, measurement accuracy will be reduced\n",
      "W0000 00:00:1726619678.097789  192913 gpu_timer.cc:114] Skipping the delay kernel, measurement accuracy will be reduced\n",
      "W0000 00:00:1726619678.098975  192913 gpu_timer.cc:114] Skipping the delay kernel, measurement accuracy will be reduced\n",
      "W0000 00:00:1726619678.099405  192913 gpu_timer.cc:114] Skipping the delay kernel, measurement accuracy will be reduced\n",
      "W0000 00:00:1726619678.100581  192913 gpu_timer.cc:114] Skipping the delay kernel, measurement accuracy will be reduced\n",
      "W0000 00:00:1726619678.101016  192913 gpu_timer.cc:114] Skipping the delay kernel, measurement accuracy will be reduced\n",
      "W0000 00:00:1726619678.101448  192913 gpu_timer.cc:114] Skipping the delay kernel, measurement accuracy will be reduced\n",
      "W0000 00:00:1726619678.287116  192913 gpu_timer.cc:114] Skipping the delay kernel, measurement accuracy will be reduced\n",
      "W0000 00:00:1726619678.287458  192913 gpu_timer.cc:114] Skipping the delay kernel, measurement accuracy will be reduced\n",
      "W0000 00:00:1726619678.287763  192913 gpu_timer.cc:114] Skipping the delay kernel, measurement accuracy will be reduced\n",
      "W0000 00:00:1726619678.288093  192913 gpu_timer.cc:114] Skipping the delay kernel, measurement accuracy will be reduced\n",
      "W0000 00:00:1726619678.288431  192913 gpu_timer.cc:114] Skipping the delay kernel, measurement accuracy will be reduced\n",
      "W0000 00:00:1726619678.311926  192913 gpu_timer.cc:114] Skipping the delay kernel, measurement accuracy will be reduced\n",
      "W0000 00:00:1726619678.312324  192913 gpu_timer.cc:114] Skipping the delay kernel, measurement accuracy will be reduced\n",
      "W0000 00:00:1726619678.312658  192913 gpu_timer.cc:114] Skipping the delay kernel, measurement accuracy will be reduced\n",
      "W0000 00:00:1726619678.312965  192913 gpu_timer.cc:114] Skipping the delay kernel, measurement accuracy will be reduced\n",
      "W0000 00:00:1726619678.313277  192913 gpu_timer.cc:114] Skipping the delay kernel, measurement accuracy will be reduced\n",
      "W0000 00:00:1726619678.313599  192913 gpu_timer.cc:114] Skipping the delay kernel, measurement accuracy will be reduced\n",
      "W0000 00:00:1726619678.313929  192913 gpu_timer.cc:114] Skipping the delay kernel, measurement accuracy will be reduced\n",
      "W0000 00:00:1726619678.315001  192913 gpu_timer.cc:114] Skipping the delay kernel, measurement accuracy will be reduced\n",
      "W0000 00:00:1726619678.315346  192913 gpu_timer.cc:114] Skipping the delay kernel, measurement accuracy will be reduced\n",
      "W0000 00:00:1726619678.315668  192913 gpu_timer.cc:114] Skipping the delay kernel, measurement accuracy will be reduced\n",
      "W0000 00:00:1726619678.315984  192913 gpu_timer.cc:114] Skipping the delay kernel, measurement accuracy will be reduced\n",
      "W0000 00:00:1726619678.316307  192913 gpu_timer.cc:114] Skipping the delay kernel, measurement accuracy will be reduced\n",
      "W0000 00:00:1726619678.316622  192913 gpu_timer.cc:114] Skipping the delay kernel, measurement accuracy will be reduced\n",
      "W0000 00:00:1726619678.316945  192913 gpu_timer.cc:114] Skipping the delay kernel, measurement accuracy will be reduced\n",
      "W0000 00:00:1726619678.317265  192913 gpu_timer.cc:114] Skipping the delay kernel, measurement accuracy will be reduced\n",
      "W0000 00:00:1726619678.317583  192913 gpu_timer.cc:114] Skipping the delay kernel, measurement accuracy will be reduced\n",
      "W0000 00:00:1726619678.317898  192913 gpu_timer.cc:114] Skipping the delay kernel, measurement accuracy will be reduced\n",
      "W0000 00:00:1726619678.318206  192913 gpu_timer.cc:114] Skipping the delay kernel, measurement accuracy will be reduced\n",
      "W0000 00:00:1726619678.318534  192913 gpu_timer.cc:114] Skipping the delay kernel, measurement accuracy will be reduced\n",
      "W0000 00:00:1726619678.318862  192913 gpu_timer.cc:114] Skipping the delay kernel, measurement accuracy will be reduced\n",
      "W0000 00:00:1726619678.319188  192913 gpu_timer.cc:114] Skipping the delay kernel, measurement accuracy will be reduced\n",
      "W0000 00:00:1726619678.319523  192913 gpu_timer.cc:114] Skipping the delay kernel, measurement accuracy will be reduced\n",
      "W0000 00:00:1726619678.320568  192913 gpu_timer.cc:114] Skipping the delay kernel, measurement accuracy will be reduced\n",
      "W0000 00:00:1726619678.320892  192913 gpu_timer.cc:114] Skipping the delay kernel, measurement accuracy will be reduced\n",
      "W0000 00:00:1726619678.321226  192913 gpu_timer.cc:114] Skipping the delay kernel, measurement accuracy will be reduced\n",
      "W0000 00:00:1726619678.322490  192913 gpu_timer.cc:114] Skipping the delay kernel, measurement accuracy will be reduced\n",
      "W0000 00:00:1726619678.322834  192913 gpu_timer.cc:114] Skipping the delay kernel, measurement accuracy will be reduced\n",
      "W0000 00:00:1726619678.337131  192913 gpu_timer.cc:114] Skipping the delay kernel, measurement accuracy will be reduced\n",
      "W0000 00:00:1726619678.337510  192913 gpu_timer.cc:114] Skipping the delay kernel, measurement accuracy will be reduced\n",
      "W0000 00:00:1726619678.337835  192913 gpu_timer.cc:114] Skipping the delay kernel, measurement accuracy will be reduced\n",
      "W0000 00:00:1726619678.338157  192913 gpu_timer.cc:114] Skipping the delay kernel, measurement accuracy will be reduced\n",
      "W0000 00:00:1726619678.338478  192913 gpu_timer.cc:114] Skipping the delay kernel, measurement accuracy will be reduced\n",
      "W0000 00:00:1726619678.338789  192913 gpu_timer.cc:114] Skipping the delay kernel, measurement accuracy will be reduced\n",
      "W0000 00:00:1726619678.339103  192913 gpu_timer.cc:114] Skipping the delay kernel, measurement accuracy will be reduced\n",
      "W0000 00:00:1726619678.339418  192913 gpu_timer.cc:114] Skipping the delay kernel, measurement accuracy will be reduced\n",
      "W0000 00:00:1726619678.339731  192913 gpu_timer.cc:114] Skipping the delay kernel, measurement accuracy will be reduced\n",
      "W0000 00:00:1726619678.340046  192913 gpu_timer.cc:114] Skipping the delay kernel, measurement accuracy will be reduced\n",
      "W0000 00:00:1726619678.340360  192913 gpu_timer.cc:114] Skipping the delay kernel, measurement accuracy will be reduced\n",
      "W0000 00:00:1726619678.340668  192913 gpu_timer.cc:114] Skipping the delay kernel, measurement accuracy will be reduced\n",
      "W0000 00:00:1726619678.340983  192913 gpu_timer.cc:114] Skipping the delay kernel, measurement accuracy will be reduced\n",
      "W0000 00:00:1726619678.341300  192913 gpu_timer.cc:114] Skipping the delay kernel, measurement accuracy will be reduced\n",
      "W0000 00:00:1726619678.341614  192913 gpu_timer.cc:114] Skipping the delay kernel, measurement accuracy will be reduced\n",
      "W0000 00:00:1726619678.341914  192913 gpu_timer.cc:114] Skipping the delay kernel, measurement accuracy will be reduced\n",
      "W0000 00:00:1726619678.342231  192913 gpu_timer.cc:114] Skipping the delay kernel, measurement accuracy will be reduced\n",
      "W0000 00:00:1726619678.342546  192913 gpu_timer.cc:114] Skipping the delay kernel, measurement accuracy will be reduced\n",
      "W0000 00:00:1726619678.342866  192913 gpu_timer.cc:114] Skipping the delay kernel, measurement accuracy will be reduced\n",
      "W0000 00:00:1726619678.343181  192913 gpu_timer.cc:114] Skipping the delay kernel, measurement accuracy will be reduced\n",
      "W0000 00:00:1726619678.343503  192913 gpu_timer.cc:114] Skipping the delay kernel, measurement accuracy will be reduced\n",
      "W0000 00:00:1726619678.343825  192913 gpu_timer.cc:114] Skipping the delay kernel, measurement accuracy will be reduced\n",
      "W0000 00:00:1726619678.344149  192913 gpu_timer.cc:114] Skipping the delay kernel, measurement accuracy will be reduced\n",
      "W0000 00:00:1726619678.344469  192913 gpu_timer.cc:114] Skipping the delay kernel, measurement accuracy will be reduced\n",
      "W0000 00:00:1726619678.344786  192913 gpu_timer.cc:114] Skipping the delay kernel, measurement accuracy will be reduced\n",
      "W0000 00:00:1726619678.345101  192913 gpu_timer.cc:114] Skipping the delay kernel, measurement accuracy will be reduced\n",
      "W0000 00:00:1726619678.345431  192913 gpu_timer.cc:114] Skipping the delay kernel, measurement accuracy will be reduced\n",
      "W0000 00:00:1726619678.345759  192913 gpu_timer.cc:114] Skipping the delay kernel, measurement accuracy will be reduced\n",
      "W0000 00:00:1726619678.346101  192913 gpu_timer.cc:114] Skipping the delay kernel, measurement accuracy will be reduced\n",
      "W0000 00:00:1726619678.346423  192913 gpu_timer.cc:114] Skipping the delay kernel, measurement accuracy will be reduced\n",
      "W0000 00:00:1726619678.346748  192913 gpu_timer.cc:114] Skipping the delay kernel, measurement accuracy will be reduced\n",
      "W0000 00:00:1726619678.347068  192913 gpu_timer.cc:114] Skipping the delay kernel, measurement accuracy will be reduced\n",
      "W0000 00:00:1726619678.347389  192913 gpu_timer.cc:114] Skipping the delay kernel, measurement accuracy will be reduced\n",
      "W0000 00:00:1726619678.347713  192913 gpu_timer.cc:114] Skipping the delay kernel, measurement accuracy will be reduced\n",
      "W0000 00:00:1726619678.348036  192913 gpu_timer.cc:114] Skipping the delay kernel, measurement accuracy will be reduced\n",
      "W0000 00:00:1726619678.348367  192913 gpu_timer.cc:114] Skipping the delay kernel, measurement accuracy will be reduced\n",
      "W0000 00:00:1726619678.348687  192913 gpu_timer.cc:114] Skipping the delay kernel, measurement accuracy will be reduced\n",
      "W0000 00:00:1726619678.349007  192913 gpu_timer.cc:114] Skipping the delay kernel, measurement accuracy will be reduced\n",
      "W0000 00:00:1726619678.349352  192913 gpu_timer.cc:114] Skipping the delay kernel, measurement accuracy will be reduced\n",
      "W0000 00:00:1726619678.349687  192913 gpu_timer.cc:114] Skipping the delay kernel, measurement accuracy will be reduced\n"
     ]
    }
   ],
   "source": [
    "r = pnet(normalize_images(scale_images(ensure_stack(img), 0.7)))"
   ]
  },
  {
   "cell_type": "code",
   "execution_count": 36,
   "id": "8a43985a-330c-4ad1-8df1-691ec2e54f42",
   "metadata": {},
   "outputs": [
    {
     "data": {
      "text/plain": [
       "[<tf.Tensor: shape=(1, 97, 84, 4), dtype=float32, numpy=\n",
       " array([[[[ 7.32030720e-02, -1.67948008e-03,  1.55734301e-01,\n",
       "            2.80358434e-01],\n",
       "          [-3.06192227e-03, -3.88794020e-03,  1.40030921e-01,\n",
       "            3.53747129e-01],\n",
       "          [ 1.36013851e-01, -9.74214450e-03,  5.46535775e-02,\n",
       "            1.94367379e-01],\n",
       "          ...,\n",
       "          [ 1.13436114e-02, -9.66800973e-02, -1.07657947e-02,\n",
       "            1.06440350e-01],\n",
       "          [ 5.35892062e-02, -6.47406206e-02, -6.23895973e-03,\n",
       "            1.15913227e-01],\n",
       "          [ 3.08644809e-02, -7.44212419e-02,  1.90052986e-02,\n",
       "            1.30906120e-01]],\n",
       " \n",
       "         [[ 6.97101802e-02, -6.48879036e-02,  1.09180011e-01,\n",
       "            1.78931028e-01],\n",
       "          [ 1.29153887e-02, -6.30406439e-02,  1.30564123e-01,\n",
       "            2.76542276e-01],\n",
       "          [ 6.15201704e-02, -1.13333538e-02,  2.92448625e-02,\n",
       "            2.50712812e-01],\n",
       "          ...,\n",
       "          [ 5.54543510e-02, -2.28829682e-02,  1.98694989e-02,\n",
       "            1.82986662e-01],\n",
       "          [ 5.06065115e-02,  2.62784325e-02, -3.82300690e-02,\n",
       "            1.80139974e-01],\n",
       "          [ 3.56912538e-02, -3.65093686e-02,  1.45465136e-04,\n",
       "            1.77356064e-01]],\n",
       " \n",
       "         [[-3.48563343e-02, -1.11247107e-01,  1.30743265e-01,\n",
       "            6.84450269e-02],\n",
       "          [-6.63328022e-02, -1.20308086e-01,  1.48239136e-01,\n",
       "            1.20000109e-01],\n",
       "          [ 1.63621083e-03, -4.96390015e-02, -1.12068504e-02,\n",
       "            8.07562098e-03],\n",
       "          ...,\n",
       "          [ 8.87869895e-02, -2.36508623e-03,  2.30929181e-02,\n",
       "            9.68087167e-02],\n",
       "          [ 6.70946091e-02, -3.43138240e-02, -2.40989849e-02,\n",
       "            9.80990678e-02],\n",
       "          [ 3.30269970e-02, -9.59120244e-02, -5.26441373e-02,\n",
       "            8.42448324e-02]],\n",
       " \n",
       "         ...,\n",
       " \n",
       "         [[-2.52052993e-02, -2.18018532e-01, -8.23322609e-02,\n",
       "           -4.96251136e-02],\n",
       "          [-1.28014572e-03, -1.73689604e-01, -1.17563218e-01,\n",
       "           -5.55725843e-02],\n",
       "          [-2.96758078e-02, -1.80691227e-01, -1.66283846e-01,\n",
       "           -5.88647909e-02],\n",
       "          ...,\n",
       "          [ 2.14368030e-02, -1.23623297e-01, -6.11130148e-03,\n",
       "            1.57654360e-02],\n",
       "          [-3.99879590e-02, -1.11597970e-01, -4.05039899e-02,\n",
       "            4.91166785e-02],\n",
       "          [-2.72009000e-02, -1.05213583e-01, -6.86944649e-03,\n",
       "            8.77034366e-02]],\n",
       " \n",
       "         [[-3.20952013e-02, -2.01148689e-01, -1.36418283e-01,\n",
       "           -1.08776689e-01],\n",
       "          [-1.41082034e-02, -1.51065350e-01, -1.05358601e-01,\n",
       "           -5.70589006e-02],\n",
       "          [-2.33289599e-02, -8.69448036e-02, -1.12493038e-01,\n",
       "            3.14809382e-02],\n",
       "          ...,\n",
       "          [-3.54020111e-03, -1.85862541e-01,  1.35679096e-02,\n",
       "            1.59423202e-02],\n",
       "          [-7.96672329e-03, -1.11057714e-01, -1.84209272e-02,\n",
       "            4.95110191e-02],\n",
       "          [-1.54926404e-02, -9.32929441e-02, -2.81678252e-02,\n",
       "            5.39010577e-02]],\n",
       " \n",
       "         [[-3.30507457e-02, -2.50361472e-01, -1.34942055e-01,\n",
       "           -1.71167478e-01],\n",
       "          [-1.87421627e-02, -1.77150562e-01, -1.58463210e-01,\n",
       "           -1.41487703e-01],\n",
       "          [-4.49260511e-03, -1.04942925e-01, -1.97992846e-02,\n",
       "            4.55002487e-02],\n",
       "          ...,\n",
       "          [ 2.35380102e-02, -1.62142605e-01,  1.12367645e-02,\n",
       "            5.03504910e-02],\n",
       "          [ 2.72295624e-03, -1.84017017e-01,  8.31674039e-03,\n",
       "            4.57967483e-02],\n",
       "          [-1.50812343e-02, -2.19984367e-01,  3.82149220e-03,\n",
       "            6.38095848e-03]]]], dtype=float32)>,\n",
       " <tf.Tensor: shape=(1, 97, 84, 2), dtype=float32, numpy=\n",
       " array([[[[9.9993002e-01, 6.9920963e-05],\n",
       "          [9.9992657e-01, 7.3378935e-05],\n",
       "          [9.9907184e-01, 9.2818058e-04],\n",
       "          ...,\n",
       "          [9.8740989e-01, 1.2590099e-02],\n",
       "          [9.9510914e-01, 4.8908913e-03],\n",
       "          [9.8806715e-01, 1.1932894e-02]],\n",
       " \n",
       "         [[9.9930954e-01, 6.9041055e-04],\n",
       "          [9.9991417e-01, 8.5827625e-05],\n",
       "          [9.9950135e-01, 4.9863686e-04],\n",
       "          ...,\n",
       "          [9.7654563e-01, 2.3454390e-02],\n",
       "          [9.2763728e-01, 7.2362751e-02],\n",
       "          [9.6286225e-01, 3.7137758e-02]],\n",
       " \n",
       "         [[9.9916923e-01, 8.3080510e-04],\n",
       "          [9.9987304e-01, 1.2696310e-04],\n",
       "          [9.7891951e-01, 2.1080531e-02],\n",
       "          ...,\n",
       "          [9.2994416e-01, 7.0055813e-02],\n",
       "          [9.4496858e-01, 5.5031378e-02],\n",
       "          [9.5239562e-01, 4.7604412e-02]],\n",
       " \n",
       "         ...,\n",
       " \n",
       "         [[9.1822273e-01, 8.1777260e-02],\n",
       "          [9.4685107e-01, 5.3148985e-02],\n",
       "          [9.9908471e-01, 9.1523782e-04],\n",
       "          ...,\n",
       "          [9.7021514e-01, 2.9784901e-02],\n",
       "          [9.8569995e-01, 1.4300064e-02],\n",
       "          [9.7548884e-01, 2.4511173e-02]],\n",
       " \n",
       "         [[9.8101658e-01, 1.8983407e-02],\n",
       "          [9.7901022e-01, 2.0989755e-02],\n",
       "          [9.6195638e-01, 3.8043663e-02],\n",
       "          ...,\n",
       "          [9.8060846e-01, 1.9391574e-02],\n",
       "          [9.7493243e-01, 2.5067596e-02],\n",
       "          [9.6226877e-01, 3.7731174e-02]],\n",
       " \n",
       "         [[9.2252272e-01, 7.7477299e-02],\n",
       "          [9.7560447e-01, 2.4395542e-02],\n",
       "          [9.8008442e-01, 1.9915633e-02],\n",
       "          ...,\n",
       "          [9.9286336e-01, 7.1366741e-03],\n",
       "          [9.8791295e-01, 1.2087014e-02],\n",
       "          [9.8119384e-01, 1.8806105e-02]]]], dtype=float32)>]"
      ]
     },
     "execution_count": 36,
     "metadata": {},
     "output_type": "execute_result"
    }
   ],
   "source": [
    "\n",
    "r"
   ]
  },
  {
   "cell_type": "code",
   "execution_count": 37,
   "id": "a8f64ddc-5128-4deb-b9f9-d187ff8762cc",
   "metadata": {},
   "outputs": [
    {
     "data": {
      "text/plain": [
       "<matplotlib.image.AxesImage at 0x7fbb1c6c3150>"
      ]
     },
     "execution_count": 37,
     "metadata": {},
     "output_type": "execute_result"
    },
    {
     "data": {
      "image/png": "[encoded data removed]",
      "text/plain": [
       "<Figure size 640x480 with 1 Axes>"
      ]
     },
     "metadata": {},
     "output_type": "display_data"
    }
   ],
   "source": [
    "plt.imshow(r[1][0,:,:,1])"
   ]
  },
  {
   "cell_type": "code",
   "execution_count": 38,
   "id": "982e07e4-1995-450c-a745-d4e14fec1e77",
   "metadata": {},
   "outputs": [],
   "source": [
    "scale = scales[0]\n",
    "threshold_face = steps_threshold[0]"
   ]
  },
  {
   "cell_type": "code",
   "execution_count": 43,
   "id": "38fe4782-2e06-411c-996f-a931ac6fb158",
   "metadata": {
    "scrolled": true
   },
   "outputs": [],
   "source": [
    "result = pnet(np.concatenate([images_scaled, images_scaled], axis=0))"
   ]
  },
  {
   "cell_type": "code",
   "execution_count": 40,
   "id": "94cec4e5-5e21-407b-8ac3-83fd131a4d7f",
   "metadata": {},
   "outputs": [
    {
     "data": {
      "text/plain": [
       "<matplotlib.image.AxesImage at 0x7fbb1c096210>"
      ]
     },
     "execution_count": 40,
     "metadata": {},
     "output_type": "execute_result"
    },
    {
     "data": {
      "image/png": "[encoded data removed]",
      "text/plain": [
       "<Figure size 640x480 with 1 Axes>"
      ]
     },
     "metadata": {},
     "output_type": "display_data"
    }
   ],
   "source": [
    "plt.imshow(result[0][1][0,:,:,1])"
   ]
  },
  {
   "cell_type": "code",
   "execution_count": 41,
   "id": "30f01d42-5dd3-4a1f-a21b-9b1c4fe7b215",
   "metadata": {},
   "outputs": [],
   "source": [
    "def generate_bounding_box(bbox_reg, bbox_class, threshold_face, strides=2, cell_size=12):\n",
    "    detection_mask = (bbox_class[:,:,:,1:2] > threshold_face).numpy()\n",
    "    \n",
    "    detection_tensor = np.concatenate([\n",
    "        detection_mask,\n",
    "        bbox_class[:,:,:,1:2].numpy() * detection_mask,\n",
    "        bbox_reg.numpy() * detection_mask\n",
    "    ], axis=-1)\n",
    "    \n",
    "    index_bboxes = np.stack(np.where(detection_tensor[:,:,:,0] == 1))\n",
    "    \n",
    "    strides = np.asarray([[1], [strides], [strides]])\n",
    "    cellsize = [np.asarray([[0], [1], [1]]), np.asarray([[0], [cell_size], [cell_size]])]\n",
    "    \n",
    "    bbox_up_left = index_bboxes * strides + cellsize[0]\n",
    "    bbox_bottom_right = index_bboxes * strides + cellsize[1]\n",
    "    \n",
    "    bboxes_result = np.concatenate([\n",
    "        bbox_up_left.T,\n",
    "        bbox_bottom_right[1:].T,\n",
    "        detection_tensor[index_bboxes[0], index_bboxes[1], index_bboxes[2]]\n",
    "    ], axis=-1)\n",
    "\n",
    "    return bboxes_result\n",
    "\n",
    "def upscale_bboxes(bboxes_result, scales):\n",
    "    scales_bcast = np.expand_dims(scales[bboxes_result[:,0].astype(int)], axis=-1)\n",
    "    bboxes_result[:,1:5] = np.fix(bboxes_result[:,1:5] / scales_bcast)\n",
    "    return bboxes_result"
   ]
  },
  {
   "cell_type": "code",
   "execution_count": 44,
   "id": "15750df1-2c0c-4cbc-880c-85140e2ce453",
   "metadata": {},
   "outputs": [],
   "source": [
    "bbox_reg, bbox_class = result"
   ]
  },
  {
   "cell_type": "code",
   "execution_count": 45,
   "id": "39f5fa2e-685f-4ba9-8dea-4dfdcc357c12",
   "metadata": {},
   "outputs": [
    {
     "name": "stdout",
     "output_type": "stream",
     "text": [
      "CPU times: user 8.14 ms, sys: 3.61 ms, total: 11.7 ms\n",
      "Wall time: 9.78 ms\n"
     ]
    }
   ],
   "source": [
    "%%time\n",
    "a = generate_bounding_box(bbox_reg, bbox_class, threshold_face=threshold_face)\n",
    "b = upscale_bboxes(a, np.asarray([0.7, 0.7]))"
   ]
  },
  {
   "cell_type": "code",
   "execution_count": 47,
   "id": "892d212f-8838-4da1-af85-3fabc35369f6",
   "metadata": {},
   "outputs": [
    {
     "data": {
      "text/plain": [
       "array([ 0.00000000e+00,  1.00000000e+01,  1.95000000e+02,  2.50000000e+01,\n",
       "        2.11000000e+02,  1.00000000e+00,  6.89244330e-01,  1.16440475e-01,\n",
       "        5.87825440e-02, -3.59483287e-02,  5.98944910e-02])"
      ]
     },
     "execution_count": 47,
     "metadata": {},
     "output_type": "execute_result"
    }
   ],
   "source": [
    "b[0]"
   ]
  },
  {
   "cell_type": "code",
   "execution_count": 989,
   "id": "445e847e-9a93-4bd0-8eaf-14ee7168ebc0",
   "metadata": {},
   "outputs": [],
   "source": [
    "import numpy as np\n",
    "\n",
    "def iou(bboxes, method=\"union\"):\n",
    "    \"\"\"\n",
    "    Performs Intersection over Union (IoU) based on the method (Union or Min).\n",
    "    :param bboxes: List of bounding boxes in format [row1, col1, row2, col2]\n",
    "    :param method: method to apply, either \"union\" or \"min\"\n",
    "    :return: IoU matrix of shape (N, N)\n",
    "    \"\"\"\n",
    "    # Convert the list of bboxes to a numpy array\n",
    "    bboxes = np.stack(bboxes, axis=0)\n",
    "    \n",
    "    # Calculate the area of each bbox once\n",
    "    area_bboxes = (bboxes[:, 2] - bboxes[:, 0]) * (bboxes[:, 3] - bboxes[:, 1])\n",
    "    \n",
    "    # Expand dimensions for broadcasting to compute pairwise IoU\n",
    "    bboxes_a = np.expand_dims(bboxes, axis=0)\n",
    "    bboxes_b = np.expand_dims(bboxes, axis=1)\n",
    "\n",
    "    # Calculate the intersection coordinates (rows and columns)\n",
    "    row_inter_top = np.maximum(bboxes_a[:, :, 0], bboxes_b[:, :, 0])\n",
    "    col_inter_left = np.maximum(bboxes_a[:, :, 1], bboxes_b[:, :, 1])\n",
    "    row_inter_bottom = np.minimum(bboxes_a[:, :, 2], bboxes_b[:, :, 2])\n",
    "    col_inter_right = np.minimum(bboxes_a[:, :, 3], bboxes_b[:, :, 3])\n",
    "\n",
    "    # Compute width and height of the intersection\n",
    "    height_inter = np.maximum(0, row_inter_bottom - row_inter_top)\n",
    "    width_inter = np.maximum(0, col_inter_right - col_inter_left)\n",
    "\n",
    "    # Calculate area of the intersection\n",
    "    area_inter = width_inter * height_inter\n",
    "\n",
    "    if method == \"union\":\n",
    "        area_union = area_bboxes[:, None] + area_bboxes[None, :] - area_inter\n",
    "        iou_matrix = area_inter / area_union\n",
    "    elif method == \"min\":\n",
    "        area_min = np.minimum(area_bboxes[:, None], area_bboxes[None, :])\n",
    "        iou_matrix = area_inter / area_min\n",
    "    else:\n",
    "        raise ValueError(\"Method should be either 'union' or 'min'.\")\n",
    "\n",
    "    return iou_matrix\n",
    "\n",
    "def sort_by_scores(tensor, scores, ascending=True):\n",
    "    \"\"\"\n",
    "    Sorts the elements of a tensor based on the floating-point scores in ascending order.\n",
    "    \n",
    "    :param tensor: Tensor of shape (N, ...) where N is the number of elements to be sorted.\n",
    "    :param scores: Array of scores of shape (N,) corresponding to each element in the tensor.\n",
    "    :param ascending: True to sort in ascending order (first small, last big); False otherwise.\n",
    "    :return: Sorted tensor based on the scores in ascending order.\n",
    "    \"\"\"\n",
    "    sorted_indices = np.argsort(scores)\n",
    "    sorted_tensor = tensor[sorted_indices[::(-2 * int(not(ascending)) + 1)]]\n",
    "    \n",
    "    return sorted_tensor\n",
    "\n",
    "def nms(target_iou, threshold):\n",
    "    # 1. Compute the allowed slots (upper side of the triangle, above diagonal)\n",
    "    allowed_mask = np.triu(np.ones((target_iou.shape[0], target_iou.shape[0])), k=1)\n",
    "\n",
    "    # 2. Compute the slots that are invalid\n",
    "    failed_mask = (target_iou > threshold).astype(int)\n",
    "\n",
    "    # 3. Apply masks and get index\n",
    "    result_indexes = np.asarray([], dtype=\"float32\") if failed_mask.sum() == np.cumprod(failed_mask.shape)[-1] else np.where((failed_mask * allowed_mask).sum(axis=0) == 0)[0]\n",
    "\n",
    "    return result_indexes  \n",
    "\n",
    "def smart_nms_from_bboxes(bboxes, threshold, method=\"union\"):\n",
    "    # bboxes must have the following shape: (image_id, row1, col1, row2, col2, score)\n",
    "    bboxes = sort_by_scores(bboxes, scores=bboxes[:,6], ascending=False)\n",
    "    image_ids = np.unique(bboxes[:,0])\n",
    "\n",
    "    result = {}\n",
    "    \n",
    "    for image_id in image_ids:\n",
    "        target_bboxes = bboxes[bboxes[:,0] == image_id]\n",
    "        target_iou = iou(target_bboxes[:,1:5], method=method) \n",
    "        target_indexes = nms(target_iou, threshold)\n",
    "        result[image_id] = target_indexes\n",
    "    \n",
    "    return result\n"
   ]
  },
  {
   "cell_type": "code",
   "execution_count": 995,
   "id": "e4af094a-ce86-4199-8bb7-4d4fa0aace58",
   "metadata": {},
   "outputs": [
    {
     "data": {
      "text/plain": [
       "{0.0: array([0]), 1.0: array([0])}"
      ]
     },
     "execution_count": 995,
     "metadata": {},
     "output_type": "execute_result"
    }
   ],
   "source": [
    "smart_nms_from_bboxes(b, threshold_face, method=\"union\")"
   ]
  },
  {
   "cell_type": "code",
   "execution_count": 1010,
   "id": "1176cc20-3505-45c2-8c30-a2c799baa7ae",
   "metadata": {},
   "outputs": [
    {
     "data": {
      "text/plain": [
       "array([], shape=(0, 9), dtype=float64)"
      ]
     },
     "execution_count": 1010,
     "metadata": {},
     "output_type": "execute_result"
    }
   ],
   "source": [
    "np.empty((0, 9))"
   ]
  }
 ],
 "metadata": {
  "kernelspec": {
   "display_name": "Python (mamba3.11)",
   "language": "python",
   "name": "mamba3.11"
  },
  "language_info": {
   "codemirror_mode": {
    "name": "ipython",
    "version": 3
   },
   "file_extension": ".py",
   "mimetype": "text/x-python",
   "name": "python",
   "nbconvert_exporter": "python",
   "pygments_lexer": "ipython3",
   "version": "3.11.9"
  }
 },
 "nbformat": 4,
 "nbformat_minor": 5
}
